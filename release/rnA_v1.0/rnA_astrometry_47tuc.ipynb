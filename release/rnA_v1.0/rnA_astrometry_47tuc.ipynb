{
 "cells": [
  {
   "cell_type": "markdown",
   "id": "93c9fb89",
   "metadata": {},
   "source": [
    "# RN-A — Alineación astrométrica DP1 en 47 Tuc (Rubin×Gaia)\n",
    "\n",
    "**Propósito.** Reproducir la figura y métricas de separaciones angulares para la RN-A a partir del parquet mínimo.\n",
    "\n",
    "**Entradas.** `data/47tuc_dp1/rnA_matched_minimal.parquet`\n",
    "\n",
    "**Salida.** `notebooks/47tuc/figs/rnA_hist_sep.png`"
   ]
  },
  {
   "cell_type": "code",
   "execution_count": 1,
   "id": "4cdb65a2",
   "metadata": {
    "execution": {
     "iopub.execute_input": "2025-08-29T06:50:41.866174Z",
     "iopub.status.busy": "2025-08-29T06:50:41.865964Z",
     "iopub.status.idle": "2025-08-29T06:50:42.868242Z",
     "shell.execute_reply": "2025-08-29T06:50:42.867606Z",
     "shell.execute_reply.started": "2025-08-29T06:50:41.866155Z"
    }
   },
   "outputs": [
    {
     "name": "stdout",
     "output_type": "stream",
     "text": [
      "Versions: pandas 2.3.1\n"
     ]
    }
   ],
   "source": [
    "import os, sys, json\n",
    "import numpy as np, pandas as pd\n",
    "import matplotlib.pyplot as plt\n",
    "print('Versions: pandas', pd.__version__)"
   ]
  },
  {
   "cell_type": "code",
   "execution_count": 2,
   "id": "ca13be97",
   "metadata": {
    "execution": {
     "iopub.execute_input": "2025-08-29T06:50:42.870931Z",
     "iopub.status.busy": "2025-08-29T06:50:42.870703Z",
     "iopub.status.idle": "2025-08-29T06:50:42.948569Z",
     "shell.execute_reply": "2025-08-29T06:50:42.947762Z",
     "shell.execute_reply.started": "2025-08-29T06:50:42.870911Z"
    }
   },
   "outputs": [
    {
     "name": "stdout",
     "output_type": "stream",
     "text": [
      "Repo root -> /home/marcelor/portafolio-rubin\n",
      "Usando canónica: /home/marcelor/portafolio-rubin/data/47tuc_dp1/rnA_matched_minimal.parquet\n",
      "OK: df cargado con columnas: ['objectId', 'coord_ra', 'coord_dec', 'source_id', 'ra_gaia', 'dec_gaia', 'separation_arcsec']\n"
     ]
    }
   ],
   "source": [
    "from pathlib import Path\n",
    "import os, pandas as pd\n",
    "\n",
    "def find_repo_root(start: Path = Path.cwd()) -> Path:\n",
    "    p = start\n",
    "    for _ in range(6):  # sube hasta 6 niveles por seguridad\n",
    "        if (p / \".git\").exists():\n",
    "            return p\n",
    "        if p.parent == p:\n",
    "            break\n",
    "        p = p.parent\n",
    "    return start  # fallback: cwd\n",
    "\n",
    "ROOT = find_repo_root()\n",
    "print(\"Repo root ->\", ROOT)\n",
    "\n",
    "# Rutas canónica y legacy\n",
    "CANON = ROOT / \"data/47tuc_dp1/rnA_matched_minimal.parquet\"\n",
    "LEGACY = ROOT / \"notebooks/47tuc/data/47tuc_dp1/rnA_matched_minimal.parquet\"\n",
    "\n",
    "if CANON.exists():\n",
    "    print(\"Usando canónica:\", CANON)\n",
    "    df = pd.read_parquet(CANON)\n",
    "elif LEGACY.exists():\n",
    "    print(\"Usando legacy:\", LEGACY)\n",
    "    df = pd.read_parquet(LEGACY)\n",
    "    # copia a la ruta canónica para normalizar\n",
    "    CANON.parent.mkdir(parents=True, exist_ok=True)\n",
    "    df.to_parquet(CANON, index=False)\n",
    "    print(\"Copiado a canónica ->\", CANON)\n",
    "else:\n",
    "    raise FileNotFoundError(\n",
    "        f\"No encontré rnA_matched_minimal.parquet ni en {CANON} ni en {LEGACY}.\\n\"\n",
    "        \"Corre dp1_47tuc_prep.ipynb o verifica las rutas.\"\n",
    "    )\n",
    "\n",
    "# Normaliza columnas mínimas (por si los nombres difieren)\n",
    "need = [\"objectId\",\"coord_ra\",\"coord_dec\",\"source_id\",\"ra_gaia\",\"dec_gaia\",\"separation_arcsec\"]\n",
    "rename_map = {}\n",
    "for c in df.columns:\n",
    "    lc = c.lower()\n",
    "    if c not in need:\n",
    "        if lc in [\"ra\",\"ra_deg\"] and \"coord_ra\" not in df.columns:\n",
    "            rename_map[c] = \"coord_ra\"\n",
    "        if lc in [\"dec\",\"dec_deg\"] and \"coord_dec\" not in df.columns:\n",
    "            rename_map[c] = \"coord_dec\"\n",
    "        if lc.startswith(\"sep\") and \"arcsec\" in lc and \"separation_arcsec\" not in df.columns:\n",
    "            rename_map[c] = \"separation_arcsec\"\n",
    "\n",
    "if rename_map:\n",
    "    df = df.rename(columns=rename_map)\n",
    "\n",
    "missing = [c for c in need if c not in df.columns]\n",
    "if missing:\n",
    "    raise ValueError(f\"Faltan columnas requeridas: {missing}\")\n",
    "\n",
    "print(\"OK: df cargado con columnas:\", list(df.columns))\n"
   ]
  },
  {
   "cell_type": "code",
   "execution_count": 3,
   "id": "b010bd01-0cdf-4279-b64f-ee49acb3cc64",
   "metadata": {
    "execution": {
     "iopub.execute_input": "2025-08-29T06:50:42.951007Z",
     "iopub.status.busy": "2025-08-29T06:50:42.950789Z",
     "iopub.status.idle": "2025-08-29T06:50:42.961667Z",
     "shell.execute_reply": "2025-08-29T06:50:42.961097Z",
     "shell.execute_reply.started": "2025-08-29T06:50:42.950989Z"
    }
   },
   "outputs": [
    {
     "name": "stdout",
     "output_type": "stream",
     "text": [
      "N=1113, P50=0.051″, P68=0.053″, P95=0.116″\n"
     ]
    }
   ],
   "source": [
    "# 1) Filtra 1:1 y dentro de 2″ (por seguridad, aunque ya vendrá así)\n",
    "df = df.drop_duplicates('objectId').drop_duplicates('source_id')\n",
    "df = df.query('separation_arcsec <= 2.0')\n",
    "\n",
    "# 2) Vector de separaciones y percentiles\n",
    "sep = df['separation_arcsec'].to_numpy()\n",
    "p50, p68, p95 = np.percentile(sep, [50, 68, 95])\n",
    "N = len(sep)\n",
    "print(f\"N={N}, P50={p50:.3f}″, P68={p68:.3f}″, P95={p95:.3f}″\")\n"
   ]
  },
  {
   "cell_type": "code",
   "execution_count": 4,
   "id": "23c042b0-91ee-4baa-a97b-a0d4d4112f16",
   "metadata": {
    "execution": {
     "iopub.execute_input": "2025-08-29T06:50:42.964393Z",
     "iopub.status.busy": "2025-08-29T06:50:42.963993Z",
     "iopub.status.idle": "2025-08-29T06:50:42.982089Z",
     "shell.execute_reply": "2025-08-29T06:50:42.981398Z",
     "shell.execute_reply.started": "2025-08-29T06:50:42.964372Z"
    }
   },
   "outputs": [
    {
     "name": "stdout",
     "output_type": "stream",
     "text": [
      "Offset-match (≤2\"): 0\n"
     ]
    }
   ],
   "source": [
    "# --- Control anti-match espurio: \"offset-match\" ---\n",
    "import numpy as np\n",
    "\n",
    "def _angsep_arcsec(ra1_deg, dec1_deg, ra2_deg, dec2_deg):\n",
    "    \"\"\"Separación angular esférica en arcsec.\"\"\"\n",
    "    ra1  = np.deg2rad(ra1_deg); dec1 = np.deg2rad(dec1_deg)\n",
    "    ra2  = np.deg2rad(ra2_deg); dec2 = np.deg2rad(dec2_deg)\n",
    "    cosd = np.sin(dec1)*np.sin(dec2) + np.cos(dec1)*np.cos(dec2)*np.cos(ra1 - ra2)\n",
    "    cosd = np.clip(cosd, -1, 1)\n",
    "    return np.rad2deg(np.arccos(cosd)) * 3600.0\n",
    "\n",
    "# Desplaza las RA de Rubin +60\" (corregido por cos(dec)) y recomputa separaciones\n",
    "off = df.copy()\n",
    "off[\"coord_ra_off\"] = off[\"coord_ra\"] + (60.0/3600.0) / np.cos(np.deg2rad(off[\"coord_dec\"]))\n",
    "sep_off = _angsep_arcsec(off[\"coord_ra_off\"].values, off[\"coord_dec\"].values,\n",
    "                         off[\"ra_gaia\"].values,     off[\"dec_gaia\"].values)\n",
    "\n",
    "print(f\"Offset-match (≤2\\\"): {np.sum(sep_off <= 2.0)}\")\n"
   ]
  },
  {
   "cell_type": "code",
   "execution_count": 5,
   "id": "8a31cdc4",
   "metadata": {
    "execution": {
     "iopub.execute_input": "2025-08-29T06:50:42.984755Z",
     "iopub.status.busy": "2025-08-29T06:50:42.984555Z",
     "iopub.status.idle": "2025-08-29T06:50:43.419682Z",
     "shell.execute_reply": "2025-08-29T06:50:43.419061Z",
     "shell.execute_reply.started": "2025-08-29T06:50:42.984737Z"
    }
   },
   "outputs": [
    {
     "name": "stdout",
     "output_type": "stream",
     "text": [
      "Figura guardada -> /home/marcelor/portafolio-rubin/notebooks/47tuc/figs/rnA_hist_sep.png\n"
     ]
    },
    {
     "data": {
      "image/png": "[encoded data removed]",
      "text/plain": [
       "<Figure size 700x500 with 1 Axes>"
      ]
     },
     "metadata": {},
     "output_type": "display_data"
    }
   ],
   "source": [
    "plt.figure(figsize=(7,5))\n",
    "bins = np.arange(0, 0.31, 0.01)\n",
    "plt.hist(sep, bins=bins, color='#1f77b4', ec='white')\n",
    "plt.axvline(p50, ls='--', lw=2, color='tab:green', label=f'Mediana ({p50:.3f}″)')\n",
    "plt.axvline(p95, ls=':', lw=2, color='tab:red',   label=f'P95 ({p95:.3f}″)')\n",
    "plt.xlabel('Separación (arcsec)'); plt.ylabel('Número de pares emparejados')\n",
    "plt.title('Rubin×Gaia en 47 Tuc — DP1 (ComCam)')\n",
    "plt.legend(); plt.tight_layout()\n",
    "from pathlib import Path\n",
    "\n",
    "# Directorio del notebook actual\n",
    "NB_DIR = Path.cwd()\n",
    "FIG_DIR = NB_DIR / \"figs\"\n",
    "FIG_DIR.mkdir(parents=True, exist_ok=True)   # crea notebooks/47tuc/figs si no existe\n",
    "\n",
    "outfig = FIG_DIR / \"rnA_hist_sep.png\"\n",
    "plt.savefig(outfig, dpi=200)\n",
    "print(\"Figura guardada ->\", outfig)\n"
   ]
  },
  {
   "cell_type": "markdown",
   "id": "8882d14a",
   "metadata": {},
   "source": [
    "**Métricas (esperadas):** N≈1113; P50≈0.051″; P95≈0.116″.\n",
    "\n",
    "**Control (no figura):** *offset-match* plano y propagación PM Gaia→época DP1 dan sesgos <0.02″ en la mediana."
   ]
  },
  {
   "cell_type": "code",
   "execution_count": 7,
   "id": "91aee78e-fcd7-46d5-91f8-a7c0d9a2df03",
   "metadata": {
    "execution": {
     "iopub.execute_input": "2025-08-29T07:04:58.991389Z",
     "iopub.status.busy": "2025-08-29T07:04:58.990675Z",
     "iopub.status.idle": "2025-08-29T07:04:59.010426Z",
     "shell.execute_reply": "2025-08-29T07:04:59.009836Z",
     "shell.execute_reply.started": "2025-08-29T07:04:58.991356Z"
    }
   },
   "outputs": [
    {
     "name": "stdout",
     "output_type": "stream",
     "text": [
      "RN-A metrics -> /home/marcelor/portafolio-rubin/data/47tuc_dp1/rnA_metrics.json\n",
      "{'N_pairs': 1113, 'P50_arcsec': 0.051, 'P68_arcsec': 0.053, 'P95_arcsec': 0.116}\n"
     ]
    }
   ],
   "source": [
    "# Guarda métricas RN-A junto a los parquets canónicos, sin depender del CWD\n",
    "from pathlib import Path\n",
    "import numpy as np, pandas as pd, json\n",
    "\n",
    "def repo_root_from_here():\n",
    "    p = Path.cwd()\n",
    "    while p != p.parent and not (p/\".git\").exists():\n",
    "        p = p.parent\n",
    "    return p\n",
    "\n",
    "root = repo_root_from_here()\n",
    "datadir = root / \"data\" / \"47tuc_dp1\"\n",
    "pmin    = datadir / \"rnA_matched_minimal.parquet\"\n",
    "pfull   = datadir / \"matched_dp1_gaia.parquet\"\n",
    "\n",
    "# (Re)carga el parquet si no tienes 'df' en memoria\n",
    "try:\n",
    "    df  # noqa: F821\n",
    "except NameError:\n",
    "    if pmin.exists():\n",
    "        df = pd.read_parquet(pmin)\n",
    "    elif pfull.exists():\n",
    "        df = pd.read_parquet(pfull)\n",
    "        # Asegura columnas mínimas\n",
    "        if \"separation_arcsec\" not in df.columns and {\"coord_ra\",\"coord_dec\",\"ra_gaia\",\"dec_gaia\"} <= set(df.columns):\n",
    "            from math import cos, radians, sqrt\n",
    "            def _angsep_arcsec(ra1, dec1, ra2, dec2):\n",
    "                dra  = (ra1 - ra2) * np.cos(np.deg2rad(dec1))\n",
    "                ddec = (dec1 - dec2)\n",
    "                return np.sqrt(dra**2 + ddec**2) * 3600.0\n",
    "            df[\"separation_arcsec\"] = _angsep_arcsec(df[\"coord_ra\"], df[\"coord_dec\"], df[\"ra_gaia\"], df[\"dec_gaia\"])\n",
    "    else:\n",
    "        raise FileNotFoundError(\"No encontré ni rnA_matched_minimal.parquet ni matched_dp1_gaia.parquet en data/47tuc_dp1/\")\n",
    "\n",
    "# Filtro final: 1:1 y ≤ 2\"\n",
    "df = df.drop_duplicates(\"objectId\").drop_duplicates(\"source_id\")\n",
    "df = df.query(\"separation_arcsec <= 2.0\").copy()\n",
    "\n",
    "sep = df[\"separation_arcsec\"].to_numpy()\n",
    "p50, p68, p95 = np.percentile(sep, [50, 68, 95])\n",
    "metrics = {\n",
    "    \"N_pairs\": int(len(df)),\n",
    "    \"P50_arcsec\": float(round(p50, 3)),\n",
    "    \"P68_arcsec\": float(round(p68, 3)),\n",
    "    \"P95_arcsec\": float(round(p95, 3))\n",
    "}\n",
    "outjson = datadir / \"rnA_metrics.json\"\n",
    "outjson.write_text(json.dumps(metrics, indent=2), encoding=\"utf-8\")\n",
    "print(\"RN-A metrics ->\", outjson)\n",
    "print(metrics)\n"
   ]
  },
  {
   "cell_type": "code",
   "execution_count": null,
   "id": "26f428f1-cbb9-432a-a1a2-40c66bb1be90",
   "metadata": {},
   "outputs": [],
   "source": []
  }
 ],
 "metadata": {
  "kernelspec": {
   "display_name": "LSST",
   "language": "python",
   "name": "lsst"
  },
  "language_info": {
   "codemirror_mode": {
    "name": "ipython",
    "version": 3
   },
   "file_extension": ".py",
   "mimetype": "text/x-python",
   "name": "python",
   "nbconvert_exporter": "python",
   "pygments_lexer": "ipython3",
   "version": "3.12.11"
  }
 },
 "nbformat": 4,
 "nbformat_minor": 5
}
