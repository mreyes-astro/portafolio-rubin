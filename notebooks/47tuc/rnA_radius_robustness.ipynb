{
 "cells": [
  {
   "cell_type": "markdown",
   "id": "d64d6b82",
   "metadata": {},
   "source": [
    "# RN-A · Robustez al radio de búsqueda (subsets por separación)\n",
    "Calcula N/P50/P68/P95 para cortes de separación `r ∈ {0.4, 0.8, 1.2, 2.0}\"` sobre el parquet ya deduplicado.\n",
    "Añade el bloque `radii_check` al JSON y muestra una tabla.\n",
    "**Nota:** Verifica estabilidad; no estima FDR por *offset grid* (eso requiere catálogos originales)."
   ]
  },
  {
   "cell_type": "code",
   "execution_count": 3,
   "id": "08e90d57",
   "metadata": {
    "execution": {
     "iopub.execute_input": "2025-09-03T01:28:21.468172Z",
     "iopub.status.busy": "2025-09-03T01:28:21.467415Z",
     "iopub.status.idle": "2025-09-03T01:28:21.487438Z",
     "shell.execute_reply": "2025-09-03T01:28:21.486898Z",
     "shell.execute_reply.started": "2025-09-03T01:28:21.468145Z"
    }
   },
   "outputs": [
    {
     "data": {
      "text/html": [
       "<div>\n",
       "<style scoped>\n",
       "    .dataframe tbody tr th:only-of-type {\n",
       "        vertical-align: middle;\n",
       "    }\n",
       "\n",
       "    .dataframe tbody tr th {\n",
       "        vertical-align: top;\n",
       "    }\n",
       "\n",
       "    .dataframe thead th {\n",
       "        text-align: right;\n",
       "    }\n",
       "</style>\n",
       "<table border=\"1\" class=\"dataframe\">\n",
       "  <thead>\n",
       "    <tr style=\"text-align: right;\">\n",
       "      <th></th>\n",
       "      <th>radius_arcsec</th>\n",
       "      <th>N</th>\n",
       "      <th>P50</th>\n",
       "      <th>P68</th>\n",
       "      <th>P95</th>\n",
       "    </tr>\n",
       "  </thead>\n",
       "  <tbody>\n",
       "    <tr>\n",
       "      <th>0</th>\n",
       "      <td>0.4</td>\n",
       "      <td>1090</td>\n",
       "      <td>0.050877</td>\n",
       "      <td>0.053147</td>\n",
       "      <td>0.084029</td>\n",
       "    </tr>\n",
       "    <tr>\n",
       "      <th>1</th>\n",
       "      <td>0.8</td>\n",
       "      <td>1096</td>\n",
       "      <td>0.050970</td>\n",
       "      <td>0.053236</td>\n",
       "      <td>0.097704</td>\n",
       "    </tr>\n",
       "    <tr>\n",
       "      <th>2</th>\n",
       "      <td>1.0</td>\n",
       "      <td>1100</td>\n",
       "      <td>0.050970</td>\n",
       "      <td>0.053236</td>\n",
       "      <td>0.099697</td>\n",
       "    </tr>\n",
       "    <tr>\n",
       "      <th>3</th>\n",
       "      <td>1.2</td>\n",
       "      <td>1102</td>\n",
       "      <td>0.050970</td>\n",
       "      <td>0.053236</td>\n",
       "      <td>0.102142</td>\n",
       "    </tr>\n",
       "    <tr>\n",
       "      <th>4</th>\n",
       "      <td>1.5</td>\n",
       "      <td>1104</td>\n",
       "      <td>0.050970</td>\n",
       "      <td>0.053236</td>\n",
       "      <td>0.108183</td>\n",
       "    </tr>\n",
       "    <tr>\n",
       "      <th>5</th>\n",
       "      <td>2.0</td>\n",
       "      <td>1113</td>\n",
       "      <td>0.050970</td>\n",
       "      <td>0.053325</td>\n",
       "      <td>0.115842</td>\n",
       "    </tr>\n",
       "  </tbody>\n",
       "</table>\n",
       "</div>"
      ],
      "text/plain": [
       "   radius_arcsec     N       P50       P68       P95\n",
       "0            0.4  1090  0.050877  0.053147  0.084029\n",
       "1            0.8  1096  0.050970  0.053236  0.097704\n",
       "2            1.0  1100  0.050970  0.053236  0.099697\n",
       "3            1.2  1102  0.050970  0.053236  0.102142\n",
       "4            1.5  1104  0.050970  0.053236  0.108183\n",
       "5            2.0  1113  0.050970  0.053325  0.115842"
      ]
     },
     "metadata": {},
     "output_type": "display_data"
    }
   ],
   "source": [
    "from pathlib import Path\n",
    "import json\n",
    "import numpy as np, pandas as pd\n",
    "from IPython.display import display\n",
    "\n",
    "ROOT = Path.home()/ 'portafolio-rubin'\n",
    "PARQUET = ROOT/'data/47tuc_dp1/rnA_matched_minimal.parquet'\n",
    "JSONP   = ROOT/'data/47tuc_dp1/rnA_metrics.json'\n",
    "JSON_REL= ROOT/'release/rnA_v1.0/rnA_metrics.json'\n",
    "df = pd.read_parquet(PARQUET)\n",
    "sep = df['separation_arcsec'].to_numpy()\n",
    "radii = [0.4, 0.8, 1.0, 1.2, 1.5, 2.0]\n",
    "rows = []\n",
    "for r in radii:\n",
    "    m = sep <= r\n",
    "    s = sep[m]\n",
    "    if len(s)==0:\n",
    "        rows.append((r, 0, np.nan, np.nan, np.nan))\n",
    "    else:\n",
    "        rows.append((r, int(m.sum()), float(np.percentile(s,50)), float(np.percentile(s,68)), float(np.percentile(s,95))))\n",
    "tab = pd.DataFrame(rows, columns=['radius_arcsec','N','P50','P68','P95'])\n",
    "display(tab)"
   ]
  },
  {
   "cell_type": "code",
   "execution_count": 4,
   "id": "b59978ac",
   "metadata": {
    "execution": {
     "iopub.execute_input": "2025-09-03T01:28:21.488543Z",
     "iopub.status.busy": "2025-09-03T01:28:21.488340Z",
     "iopub.status.idle": "2025-09-03T01:28:21.518386Z",
     "shell.execute_reply": "2025-09-03T01:28:21.517877Z",
     "shell.execute_reply.started": "2025-09-03T01:28:21.488523Z"
    }
   },
   "outputs": [
    {
     "data": {
      "text/plain": [
       "{'N_pairs': 1113,\n",
       " 'P50_arcsec': 0.050969643129182965,\n",
       " 'P68_arcsec': 0.05332470894897676,\n",
       " 'P95_arcsec': 0.11584190795115097,\n",
       " 'P50_ci95_arcsec': [0.050690864503642435, 0.051430916269940744],\n",
       " 'P95_ci95_arcsec': [0.09780514929323501, 0.17069029791484716],\n",
       " 'bootstrap_B': 5000,\n",
       " 'bootstrap_seed': 47,\n",
       " 'method_note': '1:1 dentro de 2″; percentiles sobre separaciones; IC-95% por bootstrap.',\n",
       " 'units': 'arcsec',\n",
       " 'generator': {'script': 'notebooks/47tuc/rnA_per_coordinate_metrics.ipynb',\n",
       "  'version': 'v1.1-rnA'},\n",
       " 'P68_ci95_arcsec': [0.05296920692603931, 0.053765781052101044],\n",
       " 'per_coordinate': {'rms_ra_mas': 130.90993556974593,\n",
       "  'rms_dec_mas': 146.93924562235915,\n",
       "  'rms_ra_ci95_mas': [97.65973016695716, 162.34075753107206],\n",
       "  'rms_dec_ci95_mas': [104.34233398890363, 185.35156993450624],\n",
       "  'note': 'Δα⋆ incluye cosδ; unidades mas por coordenada.'},\n",
       " 'radii_check': {'radius_arcsec': [0.4, 0.8, 1.0, 1.2, 1.5, 2.0],\n",
       "  'N': [1090, 1096, 1100, 1102, 1104, 1113],\n",
       "  'P50_arcsec': [0.05087688664989626,\n",
       "   0.050969643129182965,\n",
       "   0.050969643129182965,\n",
       "   0.050969643129182965,\n",
       "   0.050969643129182965,\n",
       "   0.050969643129182965],\n",
       "  'P68_arcsec': [0.0531472551824958,\n",
       "   0.05323605600495968,\n",
       "   0.05323605600495968,\n",
       "   0.05323605600495968,\n",
       "   0.05323605600495968,\n",
       "   0.05332470894897676],\n",
       "  'P95_arcsec': [0.0840286963106329,\n",
       "   0.09770380059970638,\n",
       "   0.09969745101000624,\n",
       "   0.10214158753091769,\n",
       "   0.10818277279152752,\n",
       "   0.11584190795115097]}}"
      ]
     },
     "metadata": {},
     "output_type": "display_data"
    }
   ],
   "source": [
    "def merge_radii(path, tab):\n",
    "    try:\n",
    "        data=json.loads(path.read_text())\n",
    "    except Exception:\n",
    "        data={}\n",
    "    data['radii_check']={\n",
    "        'radius_arcsec': tab['radius_arcsec'].tolist(),\n",
    "        'N': tab['N'].tolist(),\n",
    "        'P50_arcsec': tab['P50'].tolist(),\n",
    "        'P68_arcsec': tab['P68'].tolist(),\n",
    "        'P95_arcsec': tab['P95'].tolist(),\n",
    "    }\n",
    "    path.write_text(json.dumps(data, indent=2))\n",
    "    return data\n",
    "\n",
    "JSONP = Path(JSONP); JSON_REL = Path(JSON_REL)\n",
    "updated = merge_radii(JSONP, tab)\n",
    "if JSON_REL.exists():\n",
    "    merge_radii(JSON_REL, tab)\n",
    "display(updated)"
   ]
  }
 ],
 "metadata": {
  "kernelspec": {
   "display_name": "LSST",
   "language": "python",
   "name": "lsst"
  },
  "language_info": {
   "codemirror_mode": {
    "name": "ipython",
    "version": 3
   },
   "file_extension": ".py",
   "mimetype": "text/x-python",
   "name": "python",
   "nbconvert_exporter": "python",
   "pygments_lexer": "ipython3",
   "version": "3.12.11"
  }
 },
 "nbformat": 4,
 "nbformat_minor": 5
}
