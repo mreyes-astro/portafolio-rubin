{
 "cells": [
  {
   "cell_type": "markdown",
   "id": "e392d582",
   "metadata": {},
   "source": [
    "# RN-A · Análisis rápido de outliers (cola > P95)\n",
    "Exporta un CSV con el 5% superior en separación (`separation_arcsec > P95`) para inspección."
   ]
  },
  {
   "cell_type": "code",
   "execution_count": 1,
   "id": "1374953f",
   "metadata": {
    "execution": {
     "iopub.execute_input": "2025-09-03T00:28:09.885124Z",
     "iopub.status.busy": "2025-09-03T00:28:09.884474Z",
     "iopub.status.idle": "2025-09-03T00:28:10.523288Z",
     "shell.execute_reply": "2025-09-03T00:28:10.522608Z",
     "shell.execute_reply.started": "2025-09-03T00:28:09.885091Z"
    }
   },
   "outputs": [
    {
     "name": "stdout",
     "output_type": "stream",
     "text": [
      "Filas outliers: 56 de 1113\n"
     ]
    },
    {
     "data": {
      "text/html": [
       "<div>\n",
       "<style scoped>\n",
       "    .dataframe tbody tr th:only-of-type {\n",
       "        vertical-align: middle;\n",
       "    }\n",
       "\n",
       "    .dataframe tbody tr th {\n",
       "        vertical-align: top;\n",
       "    }\n",
       "\n",
       "    .dataframe thead th {\n",
       "        text-align: right;\n",
       "    }\n",
       "</style>\n",
       "<table border=\"1\" class=\"dataframe\">\n",
       "  <thead>\n",
       "    <tr style=\"text-align: right;\">\n",
       "      <th></th>\n",
       "      <th>objectId</th>\n",
       "      <th>coord_ra</th>\n",
       "      <th>coord_dec</th>\n",
       "      <th>source_id</th>\n",
       "      <th>ra_gaia</th>\n",
       "      <th>dec_gaia</th>\n",
       "      <th>separation_arcsec</th>\n",
       "    </tr>\n",
       "  </thead>\n",
       "  <tbody>\n",
       "    <tr>\n",
       "      <th>680</th>\n",
       "      <td>579578142646084627</td>\n",
       "      <td>4.939379</td>\n",
       "      <td>-71.908714</td>\n",
       "      <td>4689822674816340864</td>\n",
       "      <td>4.938446</td>\n",
       "      <td>-71.908268</td>\n",
       "      <td>1.914010</td>\n",
       "    </tr>\n",
       "    <tr>\n",
       "      <th>986</th>\n",
       "      <td>579578142646084936</td>\n",
       "      <td>4.874140</td>\n",
       "      <td>-71.912028</td>\n",
       "      <td>4689822644753028480</td>\n",
       "      <td>4.875603</td>\n",
       "      <td>-71.912289</td>\n",
       "      <td>1.887021</td>\n",
       "    </tr>\n",
       "    <tr>\n",
       "      <th>174</th>\n",
       "      <td>579577455451312751</td>\n",
       "      <td>4.958268</td>\n",
       "      <td>-72.012454</td>\n",
       "      <td>4689809484973017344</td>\n",
       "      <td>4.957791</td>\n",
       "      <td>-72.011952</td>\n",
       "      <td>1.883852</td>\n",
       "    </tr>\n",
       "    <tr>\n",
       "      <th>468</th>\n",
       "      <td>579578692401894286</td>\n",
       "      <td>5.862366</td>\n",
       "      <td>-71.717671</td>\n",
       "      <td>4689849101753254272</td>\n",
       "      <td>5.863741</td>\n",
       "      <td>-71.717904</td>\n",
       "      <td>1.764468</td>\n",
       "    </tr>\n",
       "    <tr>\n",
       "      <th>403</th>\n",
       "      <td>579578142646087495</td>\n",
       "      <td>5.119066</td>\n",
       "      <td>-71.851385</td>\n",
       "      <td>4689825153015860736</td>\n",
       "      <td>5.120277</td>\n",
       "      <td>-71.851081</td>\n",
       "      <td>1.744448</td>\n",
       "    </tr>\n",
       "  </tbody>\n",
       "</table>\n",
       "</div>"
      ],
      "text/plain": [
       "               objectId  coord_ra  coord_dec            source_id   ra_gaia  \\\n",
       "680  579578142646084627  4.939379 -71.908714  4689822674816340864  4.938446   \n",
       "986  579578142646084936  4.874140 -71.912028  4689822644753028480  4.875603   \n",
       "174  579577455451312751  4.958268 -72.012454  4689809484973017344  4.957791   \n",
       "468  579578692401894286  5.862366 -71.717671  4689849101753254272  5.863741   \n",
       "403  579578142646087495  5.119066 -71.851385  4689825153015860736  5.120277   \n",
       "\n",
       "      dec_gaia  separation_arcsec  \n",
       "680 -71.908268           1.914010  \n",
       "986 -71.912289           1.887021  \n",
       "174 -72.011952           1.883852  \n",
       "468 -71.717904           1.764468  \n",
       "403 -71.851081           1.744448  "
      ]
     },
     "metadata": {},
     "output_type": "display_data"
    },
    {
     "data": {
      "text/plain": [
       "PosixPath('/home/marcelor/portafolio-rubin/data/47tuc_dp1/rnA_outliers_gtP95.csv')"
      ]
     },
     "execution_count": 1,
     "metadata": {},
     "output_type": "execute_result"
    }
   ],
   "source": [
    "from pathlib import Path\n",
    "import json\n",
    "import numpy as np, pandas as pd\n",
    "from IPython.display import display\n",
    "\n",
    "ROOT = Path.home()/ 'portafolio-rubin'\n",
    "PARQUET = ROOT/'data/47tuc_dp1/rnA_matched_minimal.parquet'\n",
    "JSONP   = ROOT/'data/47tuc_dp1/rnA_metrics.json'\n",
    "OUTCSV  = ROOT/'data/47tuc_dp1/rnA_outliers_gtP95.csv'\n",
    "\n",
    "df = pd.read_parquet(PARQUET)\n",
    "metrics = json.loads(Path(JSONP).read_text())\n",
    "p95 = metrics.get('P95_arcsec') or metrics.get('radial',{}).get('P95_arcsec')\n",
    "if p95 is None:\n",
    "    p95 = float(np.percentile(df['separation_arcsec'],95))\n",
    "    print('P95 tomado del parquet:', p95)\n",
    "mask = df['separation_arcsec'] > p95\n",
    "out = df.loc[mask].copy().sort_values('separation_arcsec', ascending=False)\n",
    "print('Filas outliers:', len(out), 'de', len(df))\n",
    "display(out.head())\n",
    "out.to_csv(OUTCSV, index=False)\n",
    "OUTCSV"
   ]
  },
  {
   "cell_type": "code",
   "execution_count": null,
   "id": "6e606392-c27b-42fb-8dd3-a2174bae4cbf",
   "metadata": {},
   "outputs": [],
   "source": []
  }
 ],
 "metadata": {
  "kernelspec": {
   "display_name": "LSST",
   "language": "python",
   "name": "lsst"
  },
  "language_info": {
   "codemirror_mode": {
    "name": "ipython",
    "version": 3
   },
   "file_extension": ".py",
   "mimetype": "text/x-python",
   "name": "python",
   "nbconvert_exporter": "python",
   "pygments_lexer": "ipython3",
   "version": "3.12.11"
  }
 },
 "nbformat": 4,
 "nbformat_minor": 5
}
