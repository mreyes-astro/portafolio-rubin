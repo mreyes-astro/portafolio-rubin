{
 "cells": [
  {
   "cell_type": "markdown",
   "id": "17d86a97-96b5-4570-a443-47dd3d0aad0f",
   "metadata": {},
   "source": [
    "**Autor:** Marcelo Reyes\\\n",
    "**Objetivo:** evaluar la coherencia fotométrica de DP1 en 47 Tuc mediante el indicador \\(R = \\sigma_{obs} / \\mathrm{median}(\\sigma_{rep})\\)."
   ]
  },
  {
   "cell_type": "markdown",
   "id": "777b328d-f877-4b9c-a2bf-f89cb2425426",
   "metadata": {},
   "source": [
    "## 1 · Objetivos\n",
    "\n",
    "- Seleccionar **miembros** de 47 Tuc con un recorte robusto en el plano de movimientos propios **Gaia DR3** (`pmra`, `pmdec`).\n",
    "- **Completar** la tabla Rubin con `g_psfFlux`/`g_psfFluxErr` si no están presentes.\n",
    "- Construir el color **Rubin** \\((g-r)\\) y calcular la **dispersión observada** (\\(\\sigma_{obs}\\)) en ventanas de magnitud.\n",
    "- Estimar la **dispersión esperada** (\\(\\sigma_{rep}\\)) a partir de los errores reportados.\n",
    "- Evaluar el **KPI** \\(R = \\sigma_{obs} / \\mathrm{median}(\\sigma_{rep})\\) con **bootstrap** (IC-95 %).\n",
    "- Guardar artefactos: tabla de miembros, gráficas y métricas en JSON."
   ]
  },
  {
   "cell_type": "markdown",
   "id": "f69a2440-dd94-42bc-93b3-9fe5b88cdac5",
   "metadata": {},
   "source": [
    "## 2 · Configuración del entorno"
   ]
  },
  {
   "cell_type": "code",
   "execution_count": 1,
   "id": "f06c60f4-e121-4df1-8744-639689d8369a",
   "metadata": {
    "execution": {
     "iopub.execute_input": "2025-08-13T22:12:26.699292Z",
     "iopub.status.busy": "2025-08-13T22:12:26.699057Z",
     "iopub.status.idle": "2025-08-13T22:12:27.485882Z",
     "shell.execute_reply": "2025-08-13T22:12:27.485433Z",
     "shell.execute_reply.started": "2025-08-13T22:12:26.699275Z"
    }
   },
   "outputs": [
    {
     "name": "stdout",
     "output_type": "stream",
     "text": [
      "--- Entorno ---\n",
      "Fecha UTC   : 2025-08-13T22:12:27.480006+00:00\n",
      "Python      : 3.12.11\n",
      "NumPy       : 2.0.2\n",
      "Pandas      : 2.3.1\n",
      "RSP/TAP     : Disponible\n",
      "CI_MODE     : False\n"
     ]
    }
   ],
   "source": [
    "# 2 · Configuración del entorno\n",
    "import os\n",
    "import json\n",
    "import math\n",
    "import numpy as np\n",
    "import pandas as pd\n",
    "import matplotlib.pyplot as plt\n",
    "\n",
    "from datetime import datetime, timezone\n",
    "from astropy.coordinates import SkyCoord\n",
    "import astropy.units as u\n",
    "\n",
    "# RSP / TAP (solo si necesitamos complementar columnas)\n",
    "try:\n",
    "    from lsst.rsp import get_tap_service\n",
    "    HAS_RSP = True\n",
    "except Exception:\n",
    "    HAS_RSP = False\n",
    "\n",
    "# Reproducibilidad de impresión\n",
    "np.set_printoptions(suppress=True, precision=4)\n",
    "\n",
    "print(\"--- Entorno ---\")\n",
    "print(\"Fecha UTC   :\", datetime.now(timezone.utc).isoformat())\n",
    "import sys as _sys\n",
    "print(\"Python      :\", _sys.version.split()[0])\n",
    "print(\"NumPy       :\", np.__version__)\n",
    "print(\"Pandas      :\", pd.__version__)\n",
    "print(\"RSP/TAP     :\", \"Disponible\" if HAS_RSP else \"No disponible\")\n",
    "\n",
    "# Parámetros globales\n",
    "DATA_DIR = \"data/47tuc_dp1\"\n",
    "IN_PARQUET = f\"{DATA_DIR}/matched_dp1_gaia.parquet\"\n",
    "OUT_MEMBERS = f\"{DATA_DIR}/members_47tuc_dp1.parquet\"\n",
    "OUT_METRICS = f\"{DATA_DIR}/metrics_47tuc.json\"\n",
    "FIG_DIR = \"notebooks/47tuc/figs\"\n",
    "os.makedirs(FIG_DIR, exist_ok=True)\n",
    "\n",
    "# Modo CI (omite consultas costosas; útil para smoke-test)\n",
    "CI_MODE = int(os.environ.get(\"CI_MODE\", \"0\")) == 1\n",
    "print(\"CI_MODE     :\", CI_MODE)"
   ]
  },
  {
   "cell_type": "markdown",
   "id": "2d2c50f1-185d-47ce-9055-7261189fe45c",
   "metadata": {},
   "source": [
    "## 3 · Carga / verificación de datos"
   ]
  },
  {
   "cell_type": "code",
   "execution_count": 2,
   "id": "cfd8a3e5-3dd0-4cd2-9124-5a8c3ede90c0",
   "metadata": {
    "execution": {
     "iopub.execute_input": "2025-08-13T22:12:30.292554Z",
     "iopub.status.busy": "2025-08-13T22:12:30.292067Z",
     "iopub.status.idle": "2025-08-13T22:12:30.350731Z",
     "shell.execute_reply": "2025-08-13T22:12:30.350290Z",
     "shell.execute_reply.started": "2025-08-13T22:12:30.292528Z"
    }
   },
   "outputs": [
    {
     "name": "stdout",
     "output_type": "stream",
     "text": [
      "Filas en matched_df: 1113\n"
     ]
    }
   ],
   "source": [
    "# 3 · Carga / verificación de datos\n",
    "assert os.path.exists(IN_PARQUET), f\"No se encuentra {IN_PARQUET}\"\n",
    "df = pd.read_parquet(IN_PARQUET)\n",
    "print(\"Filas en matched_df:\", len(df))\n",
    "\n",
    "# 3.1 · Chequeo de columnas mínimas\n",
    "required = {\n",
    "    'objectId','coord_ra','coord_dec',\n",
    "    'r_psfFlux','r_psfFluxErr',\n",
    "    'source_id','phot_g_mean_mag','ruwe','pmra','pmdec'\n",
    "}\n",
    "missing = required - set(df.columns)\n",
    "assert not missing, f\"Faltan columnas mínimas en {IN_PARQUET}: {missing}\""
   ]
  },
  {
   "cell_type": "markdown",
   "id": "6441968f-555b-4f46-a0be-3c337236d850",
   "metadata": {},
   "source": [
    "## 4 · Complemento de fotometría g (si falta)"
   ]
  },
  {
   "cell_type": "code",
   "execution_count": 3,
   "id": "834eb4ac-5b99-4ecb-9e47-5c4a62dae789",
   "metadata": {
    "execution": {
     "iopub.execute_input": "2025-08-13T22:12:33.690161Z",
     "iopub.status.busy": "2025-08-13T22:12:33.689611Z",
     "iopub.status.idle": "2025-08-13T22:12:40.551552Z",
     "shell.execute_reply": "2025-08-13T22:12:40.551026Z",
     "shell.execute_reply.started": "2025-08-13T22:12:33.690141Z"
    }
   },
   "outputs": [
    {
     "name": "stdout",
     "output_type": "stream",
     "text": [
      "¿Faltan columnas g_*?: True\n",
      "Descargadas filas con g_*: 1113\n"
     ]
    }
   ],
   "source": [
    "# 4 · Complemento de fotometría g (si falta)\n",
    "needs_g = not {'g_psfFlux','g_psfFluxErr'}.issubset(df.columns)\n",
    "print('¿Faltan columnas g_*?:', needs_g)\n",
    "\n",
    "def fetch_g_flux_for_object_ids(object_ids):\n",
    "    \"\"\"\n",
    "    Descarga g_psfFlux y g_psfFluxErr para un conjunto de objectId desde dp1.Object.\n",
    "    Devuelve DataFrame con columnas: objectId, g_psfFlux, g_psfFluxErr.\n",
    "    \"\"\"\n",
    "    assert HAS_RSP, 'RSP/TAP no disponible para complementar g_*'\n",
    "    svc = get_tap_service('tap')\n",
    "    batch_size = 800\n",
    "    out = []\n",
    "    for start in range(0, len(object_ids), batch_size):\n",
    "        chunk = object_ids[start:start+batch_size]\n",
    "        id_list = ','.join(str(int(x)) for x in chunk)\n",
    "        q = f\"\"\"\n",
    "        SELECT objectId, g_psfFlux, g_psfFluxErr\n",
    "        FROM dp1.Object\n",
    "        WHERE objectId IN ({id_list})\n",
    "              AND g_psfFlux IS NOT NULL\n",
    "              AND g_psfFluxErr IS NOT NULL\n",
    "        \"\"\"\n",
    "        res = svc.run_sync(q)\n",
    "        out.append(res.to_table().to_pandas())\n",
    "    if len(out) == 0:\n",
    "        return pd.DataFrame(columns=['objectId','g_psfFlux','g_psfFluxErr'])\n",
    "    return pd.concat(out, ignore_index=True)\n",
    "\n",
    "if needs_g:\n",
    "    if CI_MODE:\n",
    "        df['g_psfFlux'] = np.nan\n",
    "        df['g_psfFluxErr'] = np.nan\n",
    "        print('CI_MODE=1 → g_* se marcan NaN (solo smoke-test).')\n",
    "    else:\n",
    "        gcat = fetch_g_flux_for_object_ids(df['objectId'].values.tolist())\n",
    "        print('Descargadas filas con g_*:', len(gcat))\n",
    "        df = df.merge(gcat, on='objectId', how='left')"
   ]
  },
  {
   "cell_type": "markdown",
   "id": "e7206890-6fd9-4259-a943-39aed2f358dd",
   "metadata": {},
   "source": [
    "## 5 · Selección de miembros por movimiento propio (Gaia)\n",
    "\n",
    "Sin depender de *scikit‑learn*, usamos un estimador robusto: centrado iterativo en la mediana y corte elíptico final (Mahalanobis)."
   ]
  },
  {
   "cell_type": "code",
   "execution_count": 4,
   "id": "841e2e42-d82e-4366-bfe4-e78d6ca910cd",
   "metadata": {
    "execution": {
     "iopub.execute_input": "2025-08-13T22:12:40.558124Z",
     "iopub.status.busy": "2025-08-13T22:12:40.557986Z",
     "iopub.status.idle": "2025-08-13T22:12:40.566062Z",
     "shell.execute_reply": "2025-08-13T22:12:40.565670Z",
     "shell.execute_reply.started": "2025-08-13T22:12:40.558111Z"
    }
   },
   "outputs": [
    {
     "name": "stdout",
     "output_type": "stream",
     "text": [
      "Centro PM (mas/yr): (5.175664907733664, -2.6415369554037014)\n",
      "Miembros: 693 / 1113\n"
     ]
    }
   ],
   "source": [
    "# 5 · Selección de miembros por movimiento propio\n",
    "def robust_membership_pm(df_in, max_iter=3, r0=1.8, k_sigma=2.5):\n",
    "    pm = df_in[['pmra','pmdec']].dropna().values\n",
    "    idx = np.ones(len(pm), dtype=bool)\n",
    "    for _ in range(max_iter):\n",
    "        med = np.median(pm[idx,0]), np.median(pm[idx,1])\n",
    "        d = np.hypot(pm[:,0]-med[0], pm[:,1]-med[1])\n",
    "        idx = d < r0\n",
    "        r0 = max(1.0, 0.8*r0)\n",
    "    sub = pm[idx]\n",
    "    cov = np.cov(sub.T)\n",
    "    inv = np.linalg.inv(cov)\n",
    "    mu = sub.mean(axis=0)\n",
    "    diff = pm - mu\n",
    "    mah2 = np.einsum('ij,jk,ik->i', diff, inv, diff)\n",
    "    members = mah2 < (k_sigma**2)\n",
    "    center = tuple(mu.tolist())\n",
    "    return members, center, cov\n",
    "\n",
    "members, pm_center, pm_cov = robust_membership_pm(df)\n",
    "df['is_member'] = members\n",
    "print('Centro PM (mas/yr):', pm_center)\n",
    "print('Miembros:', int(df['is_member'].sum()), '/', len(df))"
   ]
  },
  {
   "cell_type": "markdown",
   "id": "633f2508-d375-40a2-aa7e-e1f42ce4345d",
   "metadata": {},
   "source": [
    "**Diagrama de movimientos propios**"
   ]
  },
  {
   "cell_type": "code",
   "execution_count": 5,
   "id": "2ab9f7db-fdcc-4f49-916e-90c738d169ce",
   "metadata": {
    "execution": {
     "iopub.execute_input": "2025-08-13T22:12:46.193145Z",
     "iopub.status.busy": "2025-08-13T22:12:46.192609Z",
     "iopub.status.idle": "2025-08-13T22:12:46.510033Z",
     "shell.execute_reply": "2025-08-13T22:12:46.509515Z",
     "shell.execute_reply.started": "2025-08-13T22:12:46.193116Z"
    }
   },
   "outputs": [
    {
     "data": {
      "image/png": "[encoded data removed]",
      "text/plain": [
       "<Figure size 600x600 with 1 Axes>"
      ]
     },
     "metadata": {},
     "output_type": "display_data"
    }
   ],
   "source": [
    "plt.figure(figsize=(6,6))\n",
    "m = df['is_member'].values\n",
    "plt.scatter(df.loc[~m,'pmra'], df.loc[~m,'pmdec'], s=5, alpha=0.2, label='campo')\n",
    "plt.scatter(df.loc[m,'pmra'],  df.loc[m,'pmdec'],  s=6, alpha=0.6, label='miembros')\n",
    "plt.xlabel('pmra (mas/yr)')\n",
    "plt.ylabel('pmdec (mas/yr)')\n",
    "plt.title('47 Tuc — Plano de movimientos propios (Gaia DR3)')\n",
    "plt.legend()\n",
    "plt.grid(True, alpha=0.3)\n",
    "plt.tight_layout()\n",
    "plt.savefig(f\"{FIG_DIR}/pmr_pmdec_members.png\", dpi=150)\n",
    "plt.show()"
   ]
  },
  {
   "cell_type": "markdown",
   "id": "0fe3fdae-e05c-4550-b011-76c3918ecb6d",
   "metadata": {},
   "source": [
    "## 6 · Fotometría: magnitudes AB y color `g−r`\n",
    "\n",
    "Convenciones: `31.4 − 2.5 log10(nJy)` y \\(\\sigma_m = 1.0857\\, err/flux\\)."
   ]
  },
  {
   "cell_type": "code",
   "execution_count": 6,
   "id": "51fceb63-f14f-458a-841f-ff83b51a92ae",
   "metadata": {
    "execution": {
     "iopub.execute_input": "2025-08-13T22:12:57.012952Z",
     "iopub.status.busy": "2025-08-13T22:12:57.012499Z",
     "iopub.status.idle": "2025-08-13T22:12:57.024411Z",
     "shell.execute_reply": "2025-08-13T22:12:57.023904Z",
     "shell.execute_reply.started": "2025-08-13T22:12:57.012932Z"
    }
   },
   "outputs": [
    {
     "name": "stdout",
     "output_type": "stream",
     "text": [
      "       g_mag      r_mag  g_minus_r  g_mag_err  r_mag_err\n",
      "0  20.926660  21.062789  -0.136129   0.006638   0.007146\n",
      "1  18.266425  18.201791   0.064634   0.001734   0.001076\n",
      "2  20.625462  20.163441   0.462020   0.008377   0.003633\n"
     ]
    }
   ],
   "source": [
    "def abmag_from_njy(flux_njy):\n",
    "    flux = np.asarray(flux_njy, dtype=float)\n",
    "    mag = np.full_like(flux, np.nan, dtype=float)\n",
    "    ok = flux > 0\n",
    "    mag[ok] = 31.4 - 2.5*np.log10(flux[ok])\n",
    "    return mag\n",
    "\n",
    "def magerr_from_fluxerr(flux, fluxerr):\n",
    "    flux = np.asarray(flux, dtype=float)\n",
    "    ferr = np.asarray(fluxerr, dtype=float)\n",
    "    out = np.full_like(flux, np.nan, dtype=float)\n",
    "    ok = (flux > 0) & (ferr > 0)\n",
    "    out[ok] = 1.0857362047581296 * (ferr[ok] / flux[ok])\n",
    "    return out\n",
    "\n",
    "# Crea columnas de magnitud y errores\n",
    "df['r_mag'] = abmag_from_njy(df['r_psfFlux'])\n",
    "df['r_mag_err'] = magerr_from_fluxerr(df['r_psfFlux'], df['r_psfFluxErr'])\n",
    "\n",
    "if {'g_psfFlux','g_psfFluxErr'}.issubset(df.columns):\n",
    "    df['g_mag'] = abmag_from_njy(df['g_psfFlux'])\n",
    "    df['g_mag_err'] = magerr_from_fluxerr(df['g_psfFlux'], df['g_psfFluxErr'])\n",
    "    df['g_minus_r'] = df['g_mag'] - df['r_mag']\n",
    "else:\n",
    "    df['g_mag'] = np.nan\n",
    "    df['g_mag_err'] = np.nan\n",
    "    df['g_minus_r'] = np.nan\n",
    "\n",
    "print(df[['g_mag','r_mag','g_minus_r','g_mag_err','r_mag_err']].head(3))"
   ]
  },
  {
   "cell_type": "markdown",
   "id": "c7211e9c-ea34-470f-ab1b-99d33e6e7cc8",
   "metadata": {},
   "source": [
    "**CMD (miembros)**"
   ]
  },
  {
   "cell_type": "code",
   "execution_count": 7,
   "id": "071ae269-4114-40aa-9628-c2cbd9fcf2f3",
   "metadata": {
    "execution": {
     "iopub.execute_input": "2025-08-13T22:13:01.442994Z",
     "iopub.status.busy": "2025-08-13T22:13:01.442370Z",
     "iopub.status.idle": "2025-08-13T22:13:01.779306Z",
     "shell.execute_reply": "2025-08-13T22:13:01.778863Z",
     "shell.execute_reply.started": "2025-08-13T22:13:01.442963Z"
    }
   },
   "outputs": [
    {
     "data": {
      "image/png": "[encoded data removed]",
      "text/plain": [
       "<Figure size 600x700 with 1 Axes>"
      ]
     },
     "metadata": {},
     "output_type": "display_data"
    }
   ],
   "source": [
    "has_g = df['g_mag'].notna().sum() > 0\n",
    "if has_g:\n",
    "    sel = df['is_member'] & df['g_mag'].notna() & df['r_mag'].notna()\n",
    "    plt.figure(figsize=(6,7))\n",
    "    plt.scatter(df.loc[sel,'g_minus_r'], df.loc[sel,'g_mag'], s=3, alpha=0.3)\n",
    "    plt.gca().invert_yaxis()\n",
    "    plt.xlabel('g − r (mag)')\n",
    "    plt.ylabel('g (mag)')\n",
    "    plt.title('47 Tuc — CMD (miembros)')\n",
    "    plt.grid(True, alpha=0.3)\n",
    "    plt.tight_layout()\n",
    "    plt.savefig(f\"{FIG_DIR}/cmd_members.png\", dpi=150)\n",
    "    plt.show()\n",
    "else:\n",
    "    print('No hay columnas g_*: se omite el CMD Rubin g−r.')"
   ]
  },
  {
   "cell_type": "markdown",
   "id": "cf3ba272-215e-4e32-bead-7d945d2259ba",
   "metadata": {},
   "source": [
    "## 7 · KPI R con residuo **perpendicular** a la secuencia\n",
    "\n",
    "Evitamos sesgos de pendiente en el CMD calculando `R` sobre el **residuo ortogonal** a la *ridgeline* del cúmulo."
   ]
  },
  {
   "cell_type": "code",
   "execution_count": 8,
   "id": "ee98ebb2-56a6-4066-8d54-56964c28269f",
   "metadata": {
    "execution": {
     "iopub.execute_input": "2025-08-13T22:13:06.669846Z",
     "iopub.status.busy": "2025-08-13T22:13:06.669616Z",
     "iopub.status.idle": "2025-08-13T22:13:06.714367Z",
     "shell.execute_reply": "2025-08-13T22:13:06.713828Z",
     "shell.execute_reply.started": "2025-08-13T22:13:06.669829Z"
    }
   },
   "outputs": [
    {
     "data": {
      "text/html": [
       "<div>\n",
       "<style scoped>\n",
       "    .dataframe tbody tr th:only-of-type {\n",
       "        vertical-align: middle;\n",
       "    }\n",
       "\n",
       "    .dataframe tbody tr th {\n",
       "        vertical-align: top;\n",
       "    }\n",
       "\n",
       "    .dataframe thead th {\n",
       "        text-align: right;\n",
       "    }\n",
       "</style>\n",
       "<table border=\"1\" class=\"dataframe\">\n",
       "  <thead>\n",
       "    <tr style=\"text-align: right;\">\n",
       "      <th></th>\n",
       "      <th>g_center</th>\n",
       "      <th>N</th>\n",
       "      <th>sigma_obs_perp</th>\n",
       "      <th>median_sigma_rep_perp</th>\n",
       "      <th>R</th>\n",
       "    </tr>\n",
       "  </thead>\n",
       "  <tbody>\n",
       "    <tr>\n",
       "      <th>5</th>\n",
       "      <td>19.52</td>\n",
       "      <td>74</td>\n",
       "      <td>0.008954</td>\n",
       "      <td>0.003295</td>\n",
       "      <td>2.717331</td>\n",
       "    </tr>\n",
       "  </tbody>\n",
       "</table>\n",
       "</div>"
      ],
      "text/plain": [
       "   g_center   N  sigma_obs_perp  median_sigma_rep_perp         R\n",
       "5     19.52  74        0.008954               0.003295  2.717331"
      ]
     },
     "execution_count": 8,
     "metadata": {},
     "output_type": "execute_result"
    }
   ],
   "source": [
    "# 7 · KPI fotométrico R con residuo perpendicular\n",
    "def running_ridge(df_members, g_col='g_mag', color_col='g_minus_r',\n",
    "                  gmin=17.3, gmax=20.5, binw=0.12, min_bin=25):\n",
    "    bins = np.arange(gmin, gmax+binw, binw)\n",
    "    centers = 0.5*(bins[:-1]+bins[1:])\n",
    "    med_color, Ns = [], []\n",
    "    for lo, hi in zip(bins[:-1], bins[1:]):\n",
    "        sel = (df_members[g_col].between(lo, hi) & np.isfinite(df_members[color_col]))\n",
    "        x = df_members.loc[sel, color_col].values\n",
    "        Ns.append(x.size)\n",
    "        med_color.append(np.nanmedian(x) if x.size>=1 else np.nan)\n",
    "    ridge = pd.DataFrame({'g0': centers, 'c0': med_color, 'N': Ns})\n",
    "    ridge = ridge[ridge['N'] >= min_bin].dropna()\n",
    "    ridge['m'] = np.gradient(ridge['c0'], ridge['g0'])\n",
    "    return ridge.reset_index(drop=True)\n",
    "\n",
    "def mad_sigma(x):\n",
    "    x = np.asarray(x, float)\n",
    "    x = x[np.isfinite(x)]\n",
    "    med = np.nanmedian(x)\n",
    "    mad = np.nanmedian(np.abs(x - med))\n",
    "    return 1.4826 * mad\n",
    "\n",
    "# 7.1 Selección de miembros con fotometría válida\n",
    "ok = (df['is_member'] &\n",
    "      df['g_mag'].between(17.3, 20.5) &\n",
    "      df['r_mag'].notna() & df['g_minus_r'].notna() &\n",
    "      df['g_mag_err'].between(0, 0.2) & df['r_mag_err'].between(0, 0.2))\n",
    "members_phot = df.loc[ok, ['g_mag','r_mag','g_mag_err','r_mag_err','g_minus_r','coord_ra','coord_dec']].copy()\n",
    "assert len(members_phot) >= 200, f'Muestra fotométrica muy pequeña: N={len(members_phot)}'\n",
    "\n",
    "# 7.2 Ridgeline y R por ventanas\n",
    "ridge = running_ridge(members_phot, gmin=17.3, gmax=20.5, binw=0.12, min_bin=25)\n",
    "assert len(ridge) >= 8, 'Ridgeline insuficiente: ajusta binw o rango de g.'\n",
    "\n",
    "def projected_sigma_rep(g_err, r_err, m):\n",
    "    return np.sqrt(g_err**2 + r_err**2) / np.sqrt(1.0 + m**2)\n",
    "\n",
    "centers, Ns, Rs, obs_sigmas, rep_sigmas = [], [], [], [], []\n",
    "for g0, c0, Nbin, mloc in ridge[['g0','c0','N','m']].itertuples(index=False):\n",
    "    w = members_phot['g_mag'].between(g0-0.15, g0+0.15)\n",
    "    if w.sum() < 30:\n",
    "        continue\n",
    "    num = members_phot.loc[w,'g_minus_r'] - (c0 + mloc*(members_phot.loc[w,'g_mag'] - g0))\n",
    "    den = math.sqrt(1.0 + mloc**2)\n",
    "    res_perp = (num/den).values\n",
    "    sigma_obs_perp = mad_sigma(res_perp)\n",
    "    s_rep = np.median(projected_sigma_rep(members_phot.loc[w,'g_mag_err'].values,\n",
    "                                          members_phot.loc[w,'r_mag_err'].values, mloc))\n",
    "    R_here = float(sigma_obs_perp / s_rep) if s_rep>0 else np.nan\n",
    "    centers.append(g0); Ns.append(int(w.sum()))\n",
    "    obs_sigmas.append(float(sigma_obs_perp)); rep_sigmas.append(float(s_rep)); Rs.append(R_here)\n",
    "\n",
    "kpi_tbl = pd.DataFrame({\n",
    "    'g_center': centers, 'N': Ns,\n",
    "    'sigma_obs_perp': obs_sigmas, 'median_sigma_rep_perp': rep_sigmas, 'R': Rs,\n",
    "}).dropna()\n",
    "\n",
    "ridge_interp_m = np.interp(kpi_tbl['g_center'], ridge['g0'], ridge['m'])\n",
    "flat = np.abs(ridge_interp_m) < 0.4\n",
    "enough = kpi_tbl['N'] >= 50\n",
    "candidates = kpi_tbl[flat & enough].copy()\n",
    "choice = (candidates.sort_values(['R','g_center']).head(1) if len(candidates) else kpi_tbl.sort_values('g_center').head(1))\n",
    "choice"
   ]
  },
  {
   "cell_type": "code",
   "execution_count": 9,
   "id": "248bf0b1-f971-4848-9677-4974c8442584",
   "metadata": {
    "execution": {
     "iopub.execute_input": "2025-08-13T22:13:14.675122Z",
     "iopub.status.busy": "2025-08-13T22:13:14.674534Z",
     "iopub.status.idle": "2025-08-13T22:13:14.882098Z",
     "shell.execute_reply": "2025-08-13T22:13:14.881622Z",
     "shell.execute_reply.started": "2025-08-13T22:13:14.675097Z"
    }
   },
   "outputs": [
    {
     "name": "stdout",
     "output_type": "stream",
     "text": [
      "Corte elegido (⊥): g = 19.52 ± 0.15 | N=74\n",
      "sigma_obs,⊥ = 0.0090  sigma_rep,⊥ = 0.0033  →  R = 2.72\n",
      "IC-95%: [1.96, 4.53]\n"
     ]
    }
   ],
   "source": [
    "# 7.3 Bootstrap para la fila elegida\n",
    "g0 = float(choice['g_center'].iloc[0])\n",
    "m0 = float(np.interp(g0, ridge['g0'], ridge['m']))\n",
    "c0 = float(np.interp(g0, ridge['g0'], ridge['c0']))\n",
    "w = members_phot['g_mag'].between(g0-0.15, g0+0.15)\n",
    "\n",
    "num = members_phot.loc[w,'g_minus_r'] - (c0 + m0*(members_phot.loc[w,'g_mag'] - g0))\n",
    "den = math.sqrt(1.0 + m0**2)\n",
    "res_perp = (num/den).values\n",
    "sigma_obs_perp = mad_sigma(res_perp)\n",
    "sigma_rep_perp = np.median(np.sqrt(members_phot.loc[w,'g_mag_err']**2 + members_phot.loc[w,'r_mag_err']**2) / den)\n",
    "R = float(sigma_obs_perp / sigma_rep_perp) if sigma_rep_perp>0 else np.nan\n",
    "\n",
    "rng = np.random.default_rng(42)\n",
    "arr = np.vstack([members_phot.loc[w,'g_mag_err'].values, members_phot.loc[w,'r_mag_err'].values]).T\n",
    "Nslice = len(res_perp); B = 2000\n",
    "boot = []\n",
    "for _ in range(B):\n",
    "    ii = rng.integers(0, Nslice, Nslice)\n",
    "    s_obs = mad_sigma(res_perp[ii])\n",
    "    s_rep = np.median(np.sqrt(arr[ii,0]**2 + arr[ii,1]**2) / den)\n",
    "    boot.append(s_obs/s_rep if s_rep>0 else np.nan)\n",
    "lo, hi = np.nanpercentile(boot, [2.5, 97.5])\n",
    "\n",
    "print(f'Corte elegido (⊥): g = {g0:.2f} ± 0.15 | N={Nslice}')\n",
    "print(f'sigma_obs,⊥ = {sigma_obs_perp:.4f}  sigma_rep,⊥ = {sigma_rep_perp:.4f}  →  R = {R:.2f}')\n",
    "print(f'IC-95%: [{lo:.2f}, {hi:.2f}]')"
   ]
  },
  {
   "cell_type": "markdown",
   "id": "2863acde-b008-4d33-8693-1202a0078bd0",
   "metadata": {},
   "source": [
    "### 7.4 · Diagnósticos opcionales: piso sistemático y de‑trending espacial"
   ]
  },
  {
   "cell_type": "code",
   "execution_count": 10,
   "id": "4fe2204d-edad-4213-a7f4-a62e68345045",
   "metadata": {
    "execution": {
     "iopub.execute_input": "2025-08-13T22:13:38.783719Z",
     "iopub.status.busy": "2025-08-13T22:13:38.783457Z",
     "iopub.status.idle": "2025-08-13T22:13:38.792934Z",
     "shell.execute_reply": "2025-08-13T22:13:38.792504Z",
     "shell.execute_reply.started": "2025-08-13T22:13:38.783702Z"
    }
   },
   "outputs": [
    {
     "name": "stdout",
     "output_type": "stream",
     "text": [
      "floor=5 mmag → R_adj=1.50\n",
      "floor=10 mmag → R_adj=0.85\n",
      "σ_obs,⊥ (detr) = 0.0066  →  R_detr = 2.01\n"
     ]
    }
   ],
   "source": [
    "# Piso sistemático (mmag) agregado en cuadratura a σ_rep,⊥\n",
    "for floor in (0.005, 0.010):\n",
    "    R_adj = float(sigma_obs_perp / math.sqrt(sigma_rep_perp**2 + floor**2))\n",
    "    print(f'floor={floor*1e3:.0f} mmag → R_adj={R_adj:.2f}')\n",
    "\n",
    "# De‑trending espacial simple del residuo ⟂ (mediana en celdas RA×Dec)\n",
    "bins_ra  = np.linspace(df.coord_ra.min(),  df.coord_ra.max(),  7)\n",
    "bins_dec = np.linspace(df.coord_dec.min(), df.coord_dec.max(), 7)\n",
    "w2 = members_phot['g_mag'].between(g0-0.15, g0+0.15)\n",
    "tab = members_phot.loc[w2, ['coord_ra','coord_dec']].copy()\n",
    "tab['res_perp'] = res_perp\n",
    "tab['ira']  = np.digitize(tab['coord_ra'],  bins_ra)  - 1\n",
    "tab['idec'] = np.digitize(tab['coord_dec'], bins_dec) - 1\n",
    "med_local = tab.groupby(['ira','idec'])['res_perp'].transform('median')\n",
    "res_detr = tab['res_perp'].values - med_local.values\n",
    "sigma_obs_perp_detr = 1.4826*np.median(np.abs(res_detr - np.median(res_detr)))\n",
    "R_detr = float(sigma_obs_perp_detr / sigma_rep_perp) if sigma_rep_perp>0 else np.nan\n",
    "print(f'σ_obs,⊥ (detr) = {sigma_obs_perp_detr:.4f}  →  R_detr = {R_detr:.2f}')"
   ]
  },
  {
   "cell_type": "markdown",
   "id": "418c3028-da52-4f2b-809d-6430eeeb2f2d",
   "metadata": {},
   "source": [
    "## 8 · Persistencia de resultados"
   ]
  },
  {
   "cell_type": "code",
   "execution_count": 11,
   "id": "ff9e0e39-2212-4d5e-a3c3-e4cf36ec25a6",
   "metadata": {
    "execution": {
     "iopub.execute_input": "2025-08-13T22:13:50.397022Z",
     "iopub.status.busy": "2025-08-13T22:13:50.396304Z",
     "iopub.status.idle": "2025-08-13T22:13:50.419506Z",
     "shell.execute_reply": "2025-08-13T22:13:50.419030Z",
     "shell.execute_reply.started": "2025-08-13T22:13:50.396988Z"
    }
   },
   "outputs": [
    {
     "name": "stdout",
     "output_type": "stream",
     "text": [
      "✓ Miembros guardados en: data/47tuc_dp1/members_47tuc_dp1.parquet\n",
      "✓ Métricas (⊥) guardadas en: data/47tuc_dp1/metrics_47tuc.json\n"
     ]
    }
   ],
   "source": [
    "# Guardar tabla de miembros con columnas útiles\n",
    "cols_keep = [\n",
    "    'objectId','coord_ra','coord_dec',\n",
    "    'r_psfFlux','r_psfFluxErr','r_mag','r_mag_err',\n",
    "    'g_psfFlux','g_psfFluxErr','g_mag','g_mag_err','g_minus_r',\n",
    "    'source_id','phot_g_mean_mag','ruwe','pmra','pmdec',\n",
    "    'is_member'\n",
    "]\n",
    "cols_keep = [c for c in cols_keep if c in df.columns]\n",
    "\n",
    "df.loc[:, cols_keep].to_parquet(OUT_MEMBERS, index=False)\n",
    "print('✓ Miembros guardados en:', OUT_MEMBERS)\n",
    "\n",
    "metrics = {\n",
    "    'timestamp_utc': datetime.now(timezone.utc).isoformat(),\n",
    "    'g_center': float(g0),\n",
    "    'N_slice': int(Nslice),\n",
    "    'sigma_obs_perp': float(sigma_obs_perp),\n",
    "    'median_sigma_rep_perp': float(sigma_rep_perp),\n",
    "    'R_perp': float(R),\n",
    "    'R_perp_ci95': [float(lo), float(hi)]\n",
    "}\n",
    "with open(OUT_METRICS, 'w') as f:\n",
    "    json.dump(metrics, f, indent=2)\n",
    "print('✓ Métricas (⊥) guardadas en:', OUT_METRICS)"
   ]
  },
  {
   "cell_type": "markdown",
   "id": "7a11cfd9-2ea6-4bb7-9aca-990344dd4b61",
   "metadata": {},
   "source": [
    "## 9 · Resultados y validación\n",
    "\n",
    "**Membresía (Gaia):** centro en PM ≈ **(5.18, −2.64)** mas/yr; **693 / 1 113** objetos clasificados como miembros.\n",
    "\n",
    "**KPI R (residuo ⟂ a la secuencia):** ventana automática en **g = 19.52 ± 0.15** mag, **N = 74**.\n",
    "\n",
    "- σ\\_obs,⊥ = **0.0090** mag\n",
    "- median(σ\\_rep,⊥) = **0.0033** mag\n",
    "- **R = 2.72** (IC‑95 %: **[1.96, 4.53]**)\n",
    "\n",
    "**Diagnósticos:**\n",
    "\n",
    "- Agregando un **piso sistemático** de 5 mmag → **R\\_adj ≈ 1.50**; con 10 mmag → **R\\_adj ≈ 0.85**.\n",
    "- Un **de‑trending espacial** por celdas RA×Dec reduce σ\\_obs,⊥ a **0.0066** mag → **R\\_detr ≈ 2.01**.\n",
    "\n",
    "*Interpretación inicial:* el exceso de dispersión parece consistente con una mezcla de **sistemáticos fotométricos a nivel mmag** (correlación espacial/crowding) y **anchura astrofísica intrínseca** (binarias no resueltas, leve *differential reddening*). Se requieren controles adicionales para desambiguar.\n"
   ]
  },
  {
   "cell_type": "markdown",
   "id": "79229605-92a4-4308-84fa-8dd102e248a7",
   "metadata": {},
   "source": [
    "# 10 · Conclusiones y próximos pasos\n",
    "\n",
    "- Con la métrica ortogonal, el valor base **R ≈ 2.7** indica **ancho en exceso** respecto a la pura propagación de errores.\n",
    "- Un piso sistemático de **5–10 mmag** o un de‑trending espacial simple llevan **R** a **∼1.5–2.0**, señalando que una parte relevante del exceso podría ser **sistemático**.\n",
    "- **Próximos pasos**:\n",
    "  1. Medir la curva **R(g)** en múltiples ventanas (18–22 mag) y reportar tabla + figura.\n",
    "  2. Controlar por **seeing/PSF**, **aperture vs PSF**, **crowding** y **radio al centro** del cúmulo.\n",
    "  3. Repetir el ejercicio en **otra banda** (r/i) y en un **campo de control** (p.ej., NGC 300).\n",
    "  4. Preparar el notebook **1b — Censo de outliers** (Isolation Forest + verificación con *cutouts* Butler)."
   ]
  },
  {
   "cell_type": "markdown",
   "id": "cbd6da0b-ffd9-4cdd-b2bd-194e2eb9d02a",
   "metadata": {},
   "source": [
    "### Referencias\n",
    "\n",
    "- **DPDD** LSE-163 — definición de columnas fotométricas LSST.\n",
    "- **SRD** LPM-17 — requisitos de desempeño (A22).\n",
    "- Lindegren et al. (2021), A&A 649, A4 — Gaia EDR3 astrometric solution.\n",
    "- Riello et al. (2021), A&A 649, A3 — RUWE y calidad astrométrica Gaia."
   ]
  },
  {
   "cell_type": "code",
   "execution_count": null,
   "id": "b8ac2133-5109-4adb-a19f-babc66b6c85f",
   "metadata": {},
   "outputs": [],
   "source": []
  }
 ],
 "metadata": {
  "kernelspec": {
   "display_name": "LSST",
   "language": "python",
   "name": "lsst"
  },
  "language_info": {
   "codemirror_mode": {
    "name": "ipython",
    "version": 3
   },
   "file_extension": ".py",
   "mimetype": "text/x-python",
   "name": "python",
   "nbconvert_exporter": "python",
   "pygments_lexer": "ipython3",
   "version": "3.12.11"
  }
 },
 "nbformat": 4,
 "nbformat_minor": 5
}
