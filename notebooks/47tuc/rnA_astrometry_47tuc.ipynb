{
 "cells": [
  {
   "cell_type": "markdown",
   "id": "93c9fb89",
   "metadata": {},
   "source": [
    "# RN-A — Alineación astrométrica DP1 en 47 Tuc (Rubin×Gaia)\n",
    "\n",
    "**Propósito.** Reproducir la figura y métricas de separaciones angulares para la RN-A a partir del parquet mínimo.\n",
    "\n",
    "**Entradas.** `data/47tuc_dp1/rnA_matched_minimal.parquet`\n",
    "\n",
    "**Salida.** `notebooks/47tuc/figs/rnA_hist_sep.png`"
   ]
  },
  {
   "cell_type": "code",
   "execution_count": null,
   "id": "4cdb65a2",
   "metadata": {},
   "outputs": [],
   "source": [
    "import os, sys, json\n",
    "import numpy as np, pandas as pd\n",
    "import matplotlib.pyplot as plt\n",
    "print('Versions: pandas', pd.__version__)"
   ]
  },
  {
   "cell_type": "code",
   "execution_count": null,
   "id": "ca13be97",
   "metadata": {},
   "outputs": [],
   "source": [
    "parquet_min = 'data/47tuc_dp1/rnA_matched_minimal.parquet'\n",
    "fallback = 'data/47tuc_dp1/matched_dp1_gaia.parquet'\n",
    "if os.path.exists(parquet_min):\n",
    "    df = pd.read_parquet(parquet_min)\n",
    "else:\n",
    "    assert os.path.exists(fallback), 'No se encontró parquet mínimo ni emparejado completo.'\n",
    "    df = pd.read_parquet(fallback)\n",
    "    # Intento de renombrado si vienen columnas con otros nombres\n",
    "    if 'separation_arcsec' not in df.columns:\n",
    "        for c in df.columns:\n",
    "            if c.lower().startswith('sep') and 'arcsec' in c.lower():\n",
    "                df = df.rename(columns={c:'separation_arcsec'})\n",
    "                break\n",
    "    for need in ['objectId','coord_ra','coord_dec','source_id','ra_gaia','dec_gaia','separation_arcsec']:\n",
    "        if need not in df.columns:\n",
    "            print('ADVERTENCIA: falta columna', need)\n",
    "df = df.drop_duplicates('objectId').drop_duplicates('source_id')\n",
    "df = df.query('separation_arcsec <= 2.0')\n",
    "sep = df['separation_arcsec'].to_numpy()\n",
    "p50, p68, p95 = np.percentile(sep, [50,68,95])\n",
    "N = len(df)\n",
    "print({'N':N,'P50\":{:.3f},' 'P68':{:.3f},' 'P95':{:.3f}}.format(p50,p68,p95))"
   ]
  },
  {
   "cell_type": "code",
   "execution_count": null,
   "id": "8a31cdc4",
   "metadata": {},
   "outputs": [],
   "source": [
    "plt.figure(figsize=(7,5))\n",
    "bins = np.arange(0, 0.31, 0.01)\n",
    "plt.hist(sep, bins=bins, color='#1f77b4', ec='white')\n",
    "plt.axvline(p50, ls='--', lw=2, color='tab:green', label=f'Mediana ({p50:.3f}″)')\n",
    "plt.axvline(p95, ls=':', lw=2, color='tab:red',   label=f'P95 ({p95:.3f}″)')\n",
    "plt.xlabel('Separación (arcsec)'); plt.ylabel('Número de pares emparejados')\n",
    "plt.title('Rubin×Gaia en 47 Tuc — DP1 (ComCam)')\n",
    "plt.legend(); plt.tight_layout()\n",
    "outfig = 'notebooks/47tuc/figs/rnA_hist_sep.png'\n",
    "plt.savefig(outfig, dpi=200)\n",
    "print('Figura guardada ->', outfig)"
   ]
  },
  {
   "cell_type": "markdown",
   "id": "8882d14a",
   "metadata": {},
   "source": [
    "**Métricas (esperadas):** N≈1113; P50≈0.051″; P95≈0.116″.\n",
    "\n",
    "**Control (no figura):** *offset-match* plano y propagación PM Gaia→época DP1 dan sesgos <0.02″ en la mediana."
   ]
  }
 ],
 "metadata": {},
 "nbformat": 4,
 "nbformat_minor": 5
}
