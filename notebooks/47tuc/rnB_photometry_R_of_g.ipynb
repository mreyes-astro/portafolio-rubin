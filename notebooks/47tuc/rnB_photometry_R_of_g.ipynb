{
 "cells": [
  {
   "cell_type": "markdown",
   "id": "0df242e3",
   "metadata": {},
   "source": [
    "# RN-B — Coherencia fotométrica temprana en 47 Tuc: curva R(g)\n",
    "\n",
    "**Propósito.** Construir la figura de R(g) y el panel de mitigaciones **a partir de métricas ya exportadas** por `dp1_47tuc_analysis.ipynb`.\n",
    "\n",
    "**Entradas.** `data/47tuc_dp1/rnB_metrics.json`\n",
    "\n",
    "**Salidas.**\n",
    "- `notebooks/47tuc/figs/rnB_R_of_g.png`\n",
    "- `notebooks/47tuc/figs/rnB_systematics_panel.png`"
   ]
  },
  {
   "cell_type": "code",
   "execution_count": null,
   "id": "78260768",
   "metadata": {},
   "outputs": [],
   "source": [
    "import os, json\n",
    "import numpy as np, pandas as pd\n",
    "import matplotlib.pyplot as plt"
   ]
  },
  {
   "cell_type": "code",
   "execution_count": null,
   "id": "19abf66e",
   "metadata": {},
   "outputs": [],
   "source": [
    "metrics_path = 'data/47tuc_dp1/rnB_metrics.json'\n",
    "assert os.path.exists(metrics_path), 'Falta rnB_metrics.json. Corre primero dp1_47tuc_analysis.ipynb para exportarlo.'\n",
    "with open(metrics_path,'r') as f:\n",
    "    M = json.load(f)\n",
    "df = pd.DataFrame(M['bins'])  # espera columnas: g_center, R, ci_low, ci_high, N\n",
    "df = df.sort_values('g_center')\n",
    "print('Bins cargados:', len(df))"
   ]
  },
  {
   "cell_type": "code",
   "execution_count": null,
   "id": "5241d7c7",
   "metadata": {},
   "outputs": [],
   "source": [
    "plt.figure(figsize=(7,5))\n",
    "x = df['g_center'].to_numpy(); R = df['R'].to_numpy()\n",
    "ci_low = df['ci_low'].to_numpy(); ci_high = df['ci_high'].to_numpy()\n",
    "yerr = np.vstack([R-ci_low, ci_high-R])\n",
    "plt.errorbar(x, R, yerr=yerr, fmt='o', ms=4, capsize=3, label='R(g) ± IC95%')\n",
    "plt.gca().invert_xaxis()  # opcional: magnitud crece a la derecha si prefieres\n",
    "plt.xlabel('g (mag)'); plt.ylabel('R = sigma_obs_perp / median(sigma_rep_perp)')\n",
    "plt.title('47 Tuc — DP1 (ComCam)')\n",
    "plt.grid(alpha=0.3); plt.tight_layout()\n",
    "from pathlib import Path\n",
    "NB_DIR = Path.cwd()\n",
    "FIG_DIR = NB_DIR / \"figs\"\n",
    "FIG_DIR.mkdir(parents=True, exist_ok=True)\n",
    "\n",
    "outfig = FIG_DIR / \"rnB_R_of_g.png\"             # primer gráfico\n",
    "plt.savefig(outfig, dpi=200)\n",
    "\n",
    "outfig2 = FIG_DIR / \"rnB_systematics_panel.png\" # panel de sistemáticos\n",
    "plt.savefig(outfig2, dpi=200)"
   ]
  },
  {
   "cell_type": "code",
   "execution_count": null,
   "id": "9a5038ba",
   "metadata": {},
   "outputs": [],
   "source": [
    "# Panel de sistemáticos: espera que M contenga una entrada 'systematics_example' con\n",
    "# los valores para una ventana representante (p.ej. g≈19.5): raw, +5mmag, +10mmag, detrend.\n",
    "if 'systematics_example' in M:\n",
    "    S = M['systematics_example']\n",
    "    labels = ['Raw','+5 mmag','+10 mmag','Detrend']\n",
    "    vals = [S.get('R_raw',np.nan), S.get('R_5mmag',np.nan), S.get('R_10mmag',np.nan), S.get('R_detrend',np.nan)]\n",
    "    plt.figure(figsize=(6,4))\n",
    "    plt.bar(labels, vals, color=['#1f77b4','#2ca02c','#17becf','#ff7f0e'])\n",
    "    plt.ylabel('R en ventana')\n",
    "    plt.title('Mitigación de sistemáticos (ventana representativa)')\n",
    "    plt.tight_layout()\n",
    "    outfig2 = 'notebooks/47tuc/figs/rnB_systematics_panel.png'\n",
    "    plt.savefig(outfig2, dpi=200)\n",
    "    print('Figura guardada ->', outfig2)\n",
    "else:\n",
    "    print('Aviso: rnB_metrics.json no trae systematics_example; salta panel.')"
   ]
  }
 ],
 "metadata": {
  "kernelspec": {
   "display_name": "LSST",
   "language": "python",
   "name": "lsst"
  },
  "language_info": {
   "codemirror_mode": {
    "name": "ipython",
    "version": 3
   },
   "file_extension": ".py",
   "mimetype": "text/x-python",
   "name": "python",
   "nbconvert_exporter": "python",
   "pygments_lexer": "ipython3",
   "version": "3.12.11"
  }
 },
 "nbformat": 4,
 "nbformat_minor": 5
}
