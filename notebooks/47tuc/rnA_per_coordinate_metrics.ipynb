{
 "cells": [
  {
   "cell_type": "markdown",
   "id": "846e2516",
   "metadata": {},
   "source": [
    "# RN-A · Métricas por coordenada (Δα⋆, Δδ) con IC-95% + P68 radial\n",
    "Calcula **RMS por coordenada** (mas) con **IC-95% bootstrap (B=5000; seed=47)** y añade **CI para P68 radial**.\n",
    "Actualiza `rnA_metrics.json` en `data/...` (y también en `release/...` si existe)."
   ]
  },
  {
   "cell_type": "code",
   "execution_count": 1,
   "id": "2dc1b334",
   "metadata": {
    "execution": {
     "iopub.execute_input": "2025-09-03T00:26:26.387139Z",
     "iopub.status.busy": "2025-09-03T00:26:26.386299Z",
     "iopub.status.idle": "2025-09-03T00:26:27.006373Z",
     "shell.execute_reply": "2025-09-03T00:26:27.005809Z",
     "shell.execute_reply.started": "2025-09-03T00:26:26.387107Z"
    }
   },
   "outputs": [
    {
     "data": {
      "text/html": [
       "<div>\n",
       "<style scoped>\n",
       "    .dataframe tbody tr th:only-of-type {\n",
       "        vertical-align: middle;\n",
       "    }\n",
       "\n",
       "    .dataframe tbody tr th {\n",
       "        vertical-align: top;\n",
       "    }\n",
       "\n",
       "    .dataframe thead th {\n",
       "        text-align: right;\n",
       "    }\n",
       "</style>\n",
       "<table border=\"1\" class=\"dataframe\">\n",
       "  <thead>\n",
       "    <tr style=\"text-align: right;\">\n",
       "      <th></th>\n",
       "      <th>objectId</th>\n",
       "      <th>coord_ra</th>\n",
       "      <th>coord_dec</th>\n",
       "      <th>source_id</th>\n",
       "      <th>ra_gaia</th>\n",
       "      <th>dec_gaia</th>\n",
       "      <th>separation_arcsec</th>\n",
       "    </tr>\n",
       "  </thead>\n",
       "  <tbody>\n",
       "    <tr>\n",
       "      <th>534</th>\n",
       "      <td>579578142646088111</td>\n",
       "      <td>5.075909</td>\n",
       "      <td>-71.855793</td>\n",
       "      <td>4689825045638616960</td>\n",
       "      <td>5.075907</td>\n",
       "      <td>-71.855792</td>\n",
       "      <td>0.000000</td>\n",
       "    </tr>\n",
       "    <tr>\n",
       "      <th>889</th>\n",
       "      <td>579578692401895176</td>\n",
       "      <td>5.742830</td>\n",
       "      <td>-71.701867</td>\n",
       "      <td>4689849853371562752</td>\n",
       "      <td>5.742831</td>\n",
       "      <td>-71.701865</td>\n",
       "      <td>0.005324</td>\n",
       "    </tr>\n",
       "    <tr>\n",
       "      <th>462</th>\n",
       "      <td>579577455451312256</td>\n",
       "      <td>4.844347</td>\n",
       "      <td>-72.044410</td>\n",
       "      <td>4689809137079932544</td>\n",
       "      <td>4.844343</td>\n",
       "      <td>-72.044410</td>\n",
       "      <td>0.005324</td>\n",
       "    </tr>\n",
       "    <tr>\n",
       "      <th>455</th>\n",
       "      <td>579578761121371709</td>\n",
       "      <td>5.673968</td>\n",
       "      <td>-71.731994</td>\n",
       "      <td>4689849754585727744</td>\n",
       "      <td>5.673963</td>\n",
       "      <td>-71.731994</td>\n",
       "      <td>0.006147</td>\n",
       "    </tr>\n",
       "    <tr>\n",
       "      <th>162</th>\n",
       "      <td>579578142646084079</td>\n",
       "      <td>5.069619</td>\n",
       "      <td>-71.928691</td>\n",
       "      <td>4689812092017502208</td>\n",
       "      <td>5.069616</td>\n",
       "      <td>-71.928690</td>\n",
       "      <td>0.006147</td>\n",
       "    </tr>\n",
       "  </tbody>\n",
       "</table>\n",
       "</div>"
      ],
      "text/plain": [
       "               objectId  coord_ra  coord_dec            source_id   ra_gaia  \\\n",
       "534  579578142646088111  5.075909 -71.855793  4689825045638616960  5.075907   \n",
       "889  579578692401895176  5.742830 -71.701867  4689849853371562752  5.742831   \n",
       "462  579577455451312256  4.844347 -72.044410  4689809137079932544  4.844343   \n",
       "455  579578761121371709  5.673968 -71.731994  4689849754585727744  5.673963   \n",
       "162  579578142646084079  5.069619 -71.928691  4689812092017502208  5.069616   \n",
       "\n",
       "      dec_gaia  separation_arcsec  \n",
       "534 -71.855792           0.000000  \n",
       "889 -71.701865           0.005324  \n",
       "462 -72.044410           0.005324  \n",
       "455 -71.731994           0.006147  \n",
       "162 -71.928690           0.006147  "
      ]
     },
     "metadata": {},
     "output_type": "display_data"
    }
   ],
   "source": [
    "from pathlib import Path\n",
    "import json\n",
    "import numpy as np, pandas as pd\n",
    "from IPython.display import display\n",
    "\n",
    "ROOT = Path.home()/ 'portafolio-rubin'\n",
    "PARQUET = ROOT/'data/47tuc_dp1/rnA_matched_minimal.parquet'\n",
    "JSONP   = ROOT/'data/47tuc_dp1/rnA_metrics.json'\n",
    "JSON_REL= ROOT/'release/rnA_v1.0/rnA_metrics.json'\n",
    "B=5000; SEED=47\n",
    "\n",
    "df = pd.read_parquet(PARQUET)\n",
    "display(df.head())"
   ]
  },
  {
   "cell_type": "code",
   "execution_count": 2,
   "id": "be932f74",
   "metadata": {
    "execution": {
     "iopub.execute_input": "2025-09-03T00:26:27.007692Z",
     "iopub.status.busy": "2025-09-03T00:26:27.007292Z",
     "iopub.status.idle": "2025-09-03T00:26:27.013487Z",
     "shell.execute_reply": "2025-09-03T00:26:27.012879Z",
     "shell.execute_reply.started": "2025-09-03T00:26:27.007671Z"
    }
   },
   "outputs": [
    {
     "data": {
      "text/plain": [
       "1113"
      ]
     },
     "execution_count": 2,
     "metadata": {},
     "output_type": "execute_result"
    }
   ],
   "source": [
    "import numpy as np\n",
    "deg2asec = 3600.0\n",
    "dec_mid = 0.5*(df['coord_dec'].to_numpy() + df['dec_gaia'].to_numpy())\n",
    "cosd = np.cos(np.deg2rad(dec_mid))\n",
    "dra_arcsec  = (df['coord_ra'].to_numpy()  - df['ra_gaia'].to_numpy()) * cosd * deg2asec\n",
    "ddec_arcsec = (df['coord_dec'].to_numpy() - df['dec_gaia'].to_numpy()) * deg2asec\n",
    "sep_arcsec  = df['separation_arcsec'].to_numpy()\n",
    "N = len(df)\n",
    "N"
   ]
  },
  {
   "cell_type": "code",
   "execution_count": 3,
   "id": "24ef1641",
   "metadata": {
    "execution": {
     "iopub.execute_input": "2025-09-03T00:26:27.014248Z",
     "iopub.status.busy": "2025-09-03T00:26:27.014045Z",
     "iopub.status.idle": "2025-09-03T00:26:27.036889Z",
     "shell.execute_reply": "2025-09-03T00:26:27.036152Z",
     "shell.execute_reply.started": "2025-09-03T00:26:27.014232Z"
    }
   },
   "outputs": [],
   "source": [
    "rng = np.random.default_rng(SEED)\n",
    "def rms(x):\n",
    "    x=np.asarray(x); return float(np.sqrt(np.mean(x**2)))\n",
    "def ci_rms(x, B=B):\n",
    "    x=np.asarray(x); n=len(x)\n",
    "    idx = rng.integers(0, n, size=(B,n))\n",
    "    samples = np.sqrt(np.mean((x[idx])**2, axis=1))\n",
    "    lo, hi = np.quantile(samples, [0.025, 0.975])\n",
    "    return float(lo), float(hi)\n",
    "def ci_percentile(x, q, B=B):\n",
    "    x=np.asarray(x); n=len(x)\n",
    "    idx = rng.integers(0, n, size=(B,n))\n",
    "    samples = np.percentile(x[idx], q, axis=1)\n",
    "    lo, hi = np.quantile(samples, [0.025, 0.975])\n",
    "    return float(lo), float(hi)"
   ]
  },
  {
   "cell_type": "code",
   "execution_count": 4,
   "id": "7b85e3c1",
   "metadata": {
    "execution": {
     "iopub.execute_input": "2025-09-03T00:26:27.037899Z",
     "iopub.status.busy": "2025-09-03T00:26:27.037653Z",
     "iopub.status.idle": "2025-09-03T00:26:27.567512Z",
     "shell.execute_reply": "2025-09-03T00:26:27.566904Z",
     "shell.execute_reply.started": "2025-09-03T00:26:27.037881Z"
    }
   },
   "outputs": [
    {
     "data": {
      "text/html": [
       "<div>\n",
       "<style scoped>\n",
       "    .dataframe tbody tr th:only-of-type {\n",
       "        vertical-align: middle;\n",
       "    }\n",
       "\n",
       "    .dataframe tbody tr th {\n",
       "        vertical-align: top;\n",
       "    }\n",
       "\n",
       "    .dataframe thead th {\n",
       "        text-align: right;\n",
       "    }\n",
       "</style>\n",
       "<table border=\"1\" class=\"dataframe\">\n",
       "  <thead>\n",
       "    <tr style=\"text-align: right;\">\n",
       "      <th></th>\n",
       "      <th>metric</th>\n",
       "      <th>value</th>\n",
       "      <th>ci95_low</th>\n",
       "      <th>ci95_high</th>\n",
       "      <th>units</th>\n",
       "    </tr>\n",
       "  </thead>\n",
       "  <tbody>\n",
       "    <tr>\n",
       "      <th>0</th>\n",
       "      <td>rms_ra_mas</td>\n",
       "      <td>130.909936</td>\n",
       "      <td>97.659730</td>\n",
       "      <td>162.340758</td>\n",
       "      <td>mas</td>\n",
       "    </tr>\n",
       "    <tr>\n",
       "      <th>1</th>\n",
       "      <td>rms_dec_mas</td>\n",
       "      <td>146.939246</td>\n",
       "      <td>104.342334</td>\n",
       "      <td>185.351570</td>\n",
       "      <td>mas</td>\n",
       "    </tr>\n",
       "    <tr>\n",
       "      <th>2</th>\n",
       "      <td>P50_arcsec</td>\n",
       "      <td>0.050970</td>\n",
       "      <td>0.050691</td>\n",
       "      <td>0.051431</td>\n",
       "      <td>arcsec</td>\n",
       "    </tr>\n",
       "    <tr>\n",
       "      <th>3</th>\n",
       "      <td>P68_arcsec</td>\n",
       "      <td>0.053325</td>\n",
       "      <td>0.052969</td>\n",
       "      <td>0.053766</td>\n",
       "      <td>arcsec</td>\n",
       "    </tr>\n",
       "    <tr>\n",
       "      <th>4</th>\n",
       "      <td>P95_arcsec</td>\n",
       "      <td>0.115842</td>\n",
       "      <td>0.097805</td>\n",
       "      <td>0.170690</td>\n",
       "      <td>arcsec</td>\n",
       "    </tr>\n",
       "  </tbody>\n",
       "</table>\n",
       "</div>"
      ],
      "text/plain": [
       "        metric       value    ci95_low   ci95_high   units\n",
       "0   rms_ra_mas  130.909936   97.659730  162.340758     mas\n",
       "1  rms_dec_mas  146.939246  104.342334  185.351570     mas\n",
       "2   P50_arcsec    0.050970    0.050691    0.051431  arcsec\n",
       "3   P68_arcsec    0.053325    0.052969    0.053766  arcsec\n",
       "4   P95_arcsec    0.115842    0.097805    0.170690  arcsec"
      ]
     },
     "execution_count": 4,
     "metadata": {},
     "output_type": "execute_result"
    }
   ],
   "source": [
    "res = {\n",
    "  'N_pairs': int(N),\n",
    "  'per_coordinate': {\n",
    "     'rms_ra_mas' : rms(dra_arcsec)*1000.0,\n",
    "     'rms_dec_mas': rms(ddec_arcsec)*1000.0,\n",
    "     'rms_ra_ci95_mas'  : [v*1000.0 for v in ci_rms(dra_arcsec)],\n",
    "     'rms_dec_ci95_mas' : [v*1000.0 for v in ci_rms(ddec_arcsec)],\n",
    "     'note': 'Δα⋆ incluye cosδ; unidades mas por coordenada.'\n",
    "  },\n",
    "  'radial': {\n",
    "     'P50_arcsec': float(np.percentile(sep_arcsec, 50)),\n",
    "     'P68_arcsec': float(np.percentile(sep_arcsec, 68)),\n",
    "     'P95_arcsec': float(np.percentile(sep_arcsec, 95)),\n",
    "     'P50_ci95_arcsec': list(ci_percentile(sep_arcsec, 50)),\n",
    "     'P68_ci95_arcsec': list(ci_percentile(sep_arcsec, 68)),\n",
    "     'P95_ci95_arcsec': list(ci_percentile(sep_arcsec, 95)),\n",
    "  }\n",
    "}\n",
    "import pandas as pd\n",
    "summary = pd.DataFrame({\n",
    "  'metric'   : ['rms_ra_mas','rms_dec_mas','P50_arcsec','P68_arcsec','P95_arcsec'],\n",
    "  'value'    : [res['per_coordinate']['rms_ra_mas'], res['per_coordinate']['rms_dec_mas'],\n",
    "                res['radial']['P50_arcsec'],res['radial']['P68_arcsec'],res['radial']['P95_arcsec']],\n",
    "  'ci95_low' : [res['per_coordinate']['rms_ra_ci95_mas'][0],res['per_coordinate']['rms_dec_ci95_mas'][0],\n",
    "                res['radial']['P50_ci95_arcsec'][0],res['radial']['P68_ci95_arcsec'][0],res['radial']['P95_ci95_arcsec'][0]],\n",
    "  'ci95_high': [res['per_coordinate']['rms_ra_ci95_mas'][1],res['per_coordinate']['rms_dec_ci95_mas'][1],\n",
    "                res['radial']['P50_ci95_arcsec'][1],res['radial']['P68_ci95_arcsec'][1],res['radial']['P95_ci95_arcsec'][1]],\n",
    "  'units'    : ['mas','mas','arcsec','arcsec','arcsec']\n",
    "})\n",
    "summary"
   ]
  },
  {
   "cell_type": "code",
   "execution_count": 5,
   "id": "f7a91b7c",
   "metadata": {
    "execution": {
     "iopub.execute_input": "2025-09-03T00:26:27.568887Z",
     "iopub.status.busy": "2025-09-03T00:26:27.568652Z",
     "iopub.status.idle": "2025-09-03T00:26:27.593212Z",
     "shell.execute_reply": "2025-09-03T00:26:27.592511Z",
     "shell.execute_reply.started": "2025-09-03T00:26:27.568869Z"
    }
   },
   "outputs": [
    {
     "data": {
      "text/plain": [
       "{'N_pairs': 1113,\n",
       " 'P50_arcsec': 0.050969643129182965,\n",
       " 'P68_arcsec': 0.05332470894897676,\n",
       " 'P95_arcsec': 0.11584190795115097,\n",
       " 'P50_ci95_arcsec': [0.050690864503642435, 0.051430916269940744],\n",
       " 'P95_ci95_arcsec': [0.09780514929323501, 0.17069029791484716],\n",
       " 'bootstrap_B': 5000,\n",
       " 'bootstrap_seed': 47,\n",
       " 'method_note': '1:1 dentro de 2″; percentiles sobre separaciones; IC-95% por bootstrap.',\n",
       " 'units': 'arcsec',\n",
       " 'generator': {'script': 'notebooks/47tuc/rnA_per_coordinate_metrics.ipynb',\n",
       "  'version': 'v1.1-rnA'},\n",
       " 'P68_ci95_arcsec': [0.05296920692603931, 0.053765781052101044],\n",
       " 'per_coordinate': {'rms_ra_mas': 130.90993556974593,\n",
       "  'rms_dec_mas': 146.93924562235915,\n",
       "  'rms_ra_ci95_mas': [97.65973016695716, 162.34075753107206],\n",
       "  'rms_dec_ci95_mas': [104.34233398890363, 185.35156993450624],\n",
       "  'note': 'Δα⋆ incluye cosδ; unidades mas por coordenada.'}}"
      ]
     },
     "metadata": {},
     "output_type": "display_data"
    }
   ],
   "source": [
    "def update_json(path):\n",
    "    existing={}\n",
    "    if path.exists():\n",
    "        try:\n",
    "            existing=json.loads(path.read_text())\n",
    "        except Exception as e:\n",
    "            print('WARN: no se pudo leer JSON existente:', e)\n",
    "    existing['N_pairs']=res['N_pairs']\n",
    "    existing['P50_arcsec']=res['radial']['P50_arcsec']\n",
    "    existing['P68_arcsec']=res['radial']['P68_arcsec']\n",
    "    existing['P95_arcsec']=res['radial']['P95_arcsec']\n",
    "    existing['P50_ci95_arcsec']=res['radial']['P50_ci95_arcsec']\n",
    "    existing['P68_ci95_arcsec']=res['radial']['P68_ci95_arcsec']\n",
    "    existing['P95_ci95_arcsec']=res['radial']['P95_ci95_arcsec']\n",
    "    existing['per_coordinate']=res['per_coordinate']\n",
    "    existing.setdefault('units','arcsec')\n",
    "    existing.setdefault('bootstrap_B', 5000)\n",
    "    existing.setdefault('bootstrap_seed', 47)\n",
    "    existing['generator']={'script':'notebooks/47tuc/rnA_per_coordinate_metrics.ipynb','version':'v1.1-rnA'}\n",
    "    path.write_text(json.dumps(existing, indent=2))\n",
    "    return existing\n",
    "\n",
    "JSONP = Path(JSONP); JSON_REL = Path(JSON_REL)\n",
    "updated = update_json(JSONP)\n",
    "if JSON_REL.exists():\n",
    "    update_json(JSON_REL)\n",
    "from IPython.display import display\n",
    "display(updated)"
   ]
  }
 ],
 "metadata": {
  "kernelspec": {
   "display_name": "LSST",
   "language": "python",
   "name": "lsst"
  },
  "language_info": {
   "codemirror_mode": {
    "name": "ipython",
    "version": 3
   },
   "file_extension": ".py",
   "mimetype": "text/x-python",
   "name": "python",
   "nbconvert_exporter": "python",
   "pygments_lexer": "ipython3",
   "version": "3.12.11"
  }
 },
 "nbformat": 4,
 "nbformat_minor": 5
}
